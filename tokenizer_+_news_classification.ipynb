{
  "nbformat": 4,
  "nbformat_minor": 0,
  "metadata": {
    "colab": {
      "provenance": [],
      "authorship_tag": "ABX9TyP3cSNHUMgm59CnufDdu6aL",
      "include_colab_link": true
    },
    "kernelspec": {
      "name": "python3",
      "display_name": "Python 3"
    },
    "language_info": {
      "name": "python"
    }
  },
  "cells": [
    {
      "cell_type": "markdown",
      "metadata": {
        "id": "view-in-github",
        "colab_type": "text"
      },
      "source": [
        "<a href=\"https://colab.research.google.com/github/MihGok/nlp_python/blob/main/tokenizer_%2B_news_classification.ipynb\" target=\"_parent\"><img src=\"https://colab.research.google.com/assets/colab-badge.svg\" alt=\"Open In Colab\"/></a>"
      ]
    },
    {
      "cell_type": "code",
      "execution_count": 2,
      "metadata": {
        "colab": {
          "base_uri": "https://localhost:8080/"
        },
        "id": "2v8RiNETJZlR",
        "outputId": "1ce9dfc2-e7d8-4b54-d67b-fc3472b45651"
      },
      "outputs": [
        {
          "output_type": "stream",
          "name": "stderr",
          "text": [
            "[nltk_data] Downloading package punkt to /root/nltk_data...\n",
            "[nltk_data]   Unzipping tokenizers/punkt.zip.\n"
          ]
        }
      ],
      "source": [
        "import nltk\n",
        "nltk.download(\"punkt\")\n",
        "from nltk.tokenize import word_tokenize,sent_tokenize"
      ]
    },
    {
      "cell_type": "code",
      "source": [
        "data = 'all work and no play makes jack a dull boy, all work and no play'\n",
        "tokens_word = word_tokenize(data)\n",
        "print(tokens_word)"
      ],
      "metadata": {
        "colab": {
          "base_uri": "https://localhost:8080/"
        },
        "id": "jua2WYgpJn_W",
        "outputId": "24c5032b-245e-4a0c-b0eb-81e303dccba0"
      },
      "execution_count": 45,
      "outputs": [
        {
          "output_type": "stream",
          "name": "stdout",
          "text": [
            "['all', 'work', 'and', 'no', 'play', 'makes', 'jack', 'a', 'dull', 'boy', ',', 'all', 'work', 'and', 'no', 'play']\n"
          ]
        }
      ]
    },
    {
      "cell_type": "code",
      "source": [
        "tokens_sent = sent_tokenize('I was lcika. Hello')\n",
        "print(tokens_sent)"
      ],
      "metadata": {
        "colab": {
          "base_uri": "https://localhost:8080/"
        },
        "id": "mBdjl9xAKCfW",
        "outputId": "3344cf01-b7f3-49b8-a202-c6a54e9fb1ad"
      },
      "execution_count": 4,
      "outputs": [
        {
          "output_type": "stream",
          "name": "stdout",
          "text": [
            "['I was lcika.', 'Hello']\n"
          ]
        }
      ]
    },
    {
      "cell_type": "code",
      "source": [
        "!pip install -q razdel"
      ],
      "metadata": {
        "id": "RQIb2US7KUm8"
      },
      "execution_count": 6,
      "outputs": []
    },
    {
      "cell_type": "code",
      "source": [
        "!pip install natasha"
      ],
      "metadata": {
        "colab": {
          "base_uri": "https://localhost:8080/"
        },
        "id": "lARZ6-RxLCLS",
        "outputId": "9979955f-810f-4e76-c760-f1d3c25d23bd"
      },
      "execution_count": 12,
      "outputs": [
        {
          "output_type": "stream",
          "name": "stdout",
          "text": [
            "Collecting natasha\n",
            "  Downloading natasha-1.6.0-py3-none-any.whl (34.4 MB)\n",
            "\u001b[2K     \u001b[90m━━━━━━━━━━━━━━━━━━━━━━━━━━━━━━━━━━━━━━━━\u001b[0m \u001b[32m34.4/34.4 MB\u001b[0m \u001b[31m2.5 MB/s\u001b[0m eta \u001b[36m0:00:00\u001b[0m\n",
            "\u001b[?25hCollecting pymorphy2 (from natasha)\n",
            "  Downloading pymorphy2-0.9.1-py3-none-any.whl (55 kB)\n",
            "\u001b[2K     \u001b[90m━━━━━━━━━━━━━━━━━━━━━━━━━━━━━━━━━━━━━━━━\u001b[0m \u001b[32m55.5/55.5 kB\u001b[0m \u001b[31m6.8 MB/s\u001b[0m eta \u001b[36m0:00:00\u001b[0m\n",
            "\u001b[?25hRequirement already satisfied: razdel>=0.5.0 in /usr/local/lib/python3.10/dist-packages (from natasha) (0.5.0)\n",
            "Collecting navec>=0.9.0 (from natasha)\n",
            "  Downloading navec-0.10.0-py3-none-any.whl (23 kB)\n",
            "Collecting slovnet>=0.6.0 (from natasha)\n",
            "  Downloading slovnet-0.6.0-py3-none-any.whl (46 kB)\n",
            "\u001b[2K     \u001b[90m━━━━━━━━━━━━━━━━━━━━━━━━━━━━━━━━━━━━━━━━\u001b[0m \u001b[32m46.7/46.7 kB\u001b[0m \u001b[31m5.8 MB/s\u001b[0m eta \u001b[36m0:00:00\u001b[0m\n",
            "\u001b[?25hCollecting yargy>=0.16.0 (from natasha)\n",
            "  Downloading yargy-0.16.0-py3-none-any.whl (33 kB)\n",
            "Collecting ipymarkup>=0.8.0 (from natasha)\n",
            "  Downloading ipymarkup-0.9.0-py3-none-any.whl (14 kB)\n",
            "Collecting intervaltree>=3 (from ipymarkup>=0.8.0->natasha)\n",
            "  Downloading intervaltree-3.1.0.tar.gz (32 kB)\n",
            "  Preparing metadata (setup.py) ... \u001b[?25l\u001b[?25hdone\n",
            "Requirement already satisfied: numpy in /usr/local/lib/python3.10/dist-packages (from navec>=0.9.0->natasha) (1.23.5)\n",
            "Collecting dawg-python>=0.7.1 (from pymorphy2->natasha)\n",
            "  Downloading DAWG_Python-0.7.2-py2.py3-none-any.whl (11 kB)\n",
            "Collecting pymorphy2-dicts-ru<3.0,>=2.4 (from pymorphy2->natasha)\n",
            "  Downloading pymorphy2_dicts_ru-2.4.417127.4579844-py2.py3-none-any.whl (8.2 MB)\n",
            "\u001b[2K     \u001b[90m━━━━━━━━━━━━━━━━━━━━━━━━━━━━━━━━━━━━━━━━\u001b[0m \u001b[32m8.2/8.2 MB\u001b[0m \u001b[31m86.3 MB/s\u001b[0m eta \u001b[36m0:00:00\u001b[0m\n",
            "\u001b[?25hCollecting docopt>=0.6 (from pymorphy2->natasha)\n",
            "  Downloading docopt-0.6.2.tar.gz (25 kB)\n",
            "  Preparing metadata (setup.py) ... \u001b[?25l\u001b[?25hdone\n",
            "Requirement already satisfied: sortedcontainers<3.0,>=2.0 in /usr/local/lib/python3.10/dist-packages (from intervaltree>=3->ipymarkup>=0.8.0->natasha) (2.4.0)\n",
            "Building wheels for collected packages: docopt, intervaltree\n",
            "  Building wheel for docopt (setup.py) ... \u001b[?25l\u001b[?25hdone\n",
            "  Created wheel for docopt: filename=docopt-0.6.2-py2.py3-none-any.whl size=13706 sha256=deaa3fe55b4f58edea2f16b58e2f5940217350a0a0237b1e1882c6e57b1ecb6d\n",
            "  Stored in directory: /root/.cache/pip/wheels/fc/ab/d4/5da2067ac95b36618c629a5f93f809425700506f72c9732fac\n",
            "  Building wheel for intervaltree (setup.py) ... \u001b[?25l\u001b[?25hdone\n",
            "  Created wheel for intervaltree: filename=intervaltree-3.1.0-py2.py3-none-any.whl size=26097 sha256=8f1376500e9ded3a62be9d70a66fa10527484f95cf679567ac9453af1f073dbe\n",
            "  Stored in directory: /root/.cache/pip/wheels/fa/80/8c/43488a924a046b733b64de3fac99252674c892a4c3801c0a61\n",
            "Successfully built docopt intervaltree\n",
            "Installing collected packages: pymorphy2-dicts-ru, docopt, dawg-python, pymorphy2, navec, intervaltree, yargy, slovnet, ipymarkup, natasha\n",
            "Successfully installed dawg-python-0.7.2 docopt-0.6.2 intervaltree-3.1.0 ipymarkup-0.9.0 natasha-1.6.0 navec-0.10.0 pymorphy2-0.9.1 pymorphy2-dicts-ru-2.4.417127.4579844 slovnet-0.6.0 yargy-0.16.0\n"
          ]
        }
      ]
    },
    {
      "cell_type": "code",
      "source": [
        "from razdel import tokenize,sentenize"
      ],
      "metadata": {
        "id": "RvUGSmYDKdwb"
      },
      "execution_count": 7,
      "outputs": []
    },
    {
      "cell_type": "code",
      "source": [
        "text = 'Здравствуйте, вам посылка. Вам рады'\n",
        "text_tokenized = tokenize(text)\n",
        "print(list(text_tokenized),list(sentenize(text)))"
      ],
      "metadata": {
        "colab": {
          "base_uri": "https://localhost:8080/"
        },
        "id": "R-3i8HvpKiGf",
        "outputId": "57bd1430-d5f7-4762-beb1-1a4417c6828f"
      },
      "execution_count": 11,
      "outputs": [
        {
          "output_type": "stream",
          "name": "stdout",
          "text": [
            "[Substring(0, 12, 'Здравствуйте'), Substring(12, 13, ','), Substring(14, 17, 'вам'), Substring(18, 25, 'посылка'), Substring(25, 26, '.'), Substring(27, 30, 'Вам'), Substring(31, 35, 'рады')] [Substring(0, 26, 'Здравствуйте, вам посылка.'), Substring(27, 35, 'Вам рады')]\n"
          ]
        }
      ]
    },
    {
      "cell_type": "code",
      "source": [
        "import re"
      ],
      "metadata": {
        "id": "sVZw_WpCLNba"
      },
      "execution_count": 13,
      "outputs": []
    },
    {
      "cell_type": "code",
      "source": [
        "word = \"super_acalifragilistiexpialidocious\"\n",
        "re.findall('[abc]|super ',word)"
      ],
      "metadata": {
        "colab": {
          "base_uri": "https://localhost:8080/"
        },
        "id": "gONpbkExLUEM",
        "outputId": "11064098-2a3e-47ef-d60e-123b07ca89ce"
      },
      "execution_count": 24,
      "outputs": [
        {
          "output_type": "execute_result",
          "data": {
            "text/plain": [
              "['a', 'c', 'a', 'a', 'a', 'c']"
            ]
          },
          "metadata": {},
          "execution_count": 24
        }
      ]
    },
    {
      "cell_type": "code",
      "source": [
        "unigrams = list(nltk.ngrams(tokens_word, 1))\n",
        "print(unigrams)\n",
        "bigram= list(nltk.ngrams(tokens_word, 2))\n",
        "print(bigram)"
      ],
      "metadata": {
        "colab": {
          "base_uri": "https://localhost:8080/"
        },
        "id": "BadrD99iKwLo",
        "outputId": "55e42862-c3db-4ebd-d52a-b9ca9abb0635"
      },
      "execution_count": 27,
      "outputs": [
        {
          "output_type": "stream",
          "name": "stdout",
          "text": [
            "[('all',), ('work',), ('and',), ('no',), ('play',), ('makes',), ('jack',), ('a',), ('dull',), ('boy',), (',',), ('all',), ('work',), ('and',), ('no',), ('play',)]\n",
            "[('all', 'work'), ('work', 'and'), ('and', 'no'), ('no', 'play'), ('play', 'makes'), ('makes', 'jack'), ('jack', 'a'), ('a', 'dull'), ('dull', 'boy'), ('boy', ','), (',', 'all'), ('all', 'work'), ('work', 'and'), ('and', 'no'), ('no', 'play')]\n"
          ]
        }
      ]
    },
    {
      "cell_type": "code",
      "source": [
        "print(\"Ngrams according to frequency\", list(nltk.FreqDist(unigrams)))"
      ],
      "metadata": {
        "colab": {
          "base_uri": "https://localhost:8080/"
        },
        "id": "1nJ3sPlNOC4C",
        "outputId": "7a988812-be2f-4031-8191-ef136e36b0e9"
      },
      "execution_count": 31,
      "outputs": [
        {
          "output_type": "stream",
          "name": "stdout",
          "text": [
            "Ngrams according to frequency [('all',), ('work',), ('and',), ('no',), ('play',), ('makes',), ('jack',), ('a',), ('dull',), ('boy',), (',',)]\n"
          ]
        }
      ]
    },
    {
      "cell_type": "code",
      "source": [
        "nltk.download('stopwords')\n",
        "from nltk.corpus import stopwords"
      ],
      "metadata": {
        "colab": {
          "base_uri": "https://localhost:8080/"
        },
        "id": "S41NxpYBQeZ9",
        "outputId": "ff61d67b-f095-4417-a829-263a41bf0e10"
      },
      "execution_count": 37,
      "outputs": [
        {
          "output_type": "stream",
          "name": "stderr",
          "text": [
            "[nltk_data] Downloading package stopwords to /root/nltk_data...\n",
            "[nltk_data]   Package stopwords is already up-to-date!\n"
          ]
        }
      ]
    },
    {
      "cell_type": "code",
      "source": [
        "stopword = set(stopwords.words(\"russian\"))\n",
        "print(stopword)"
      ],
      "metadata": {
        "colab": {
          "base_uri": "https://localhost:8080/"
        },
        "id": "TuIrYbk6QobG",
        "outputId": "d75d6062-6975-4948-be2b-bca42116663b"
      },
      "execution_count": 46,
      "outputs": [
        {
          "output_type": "stream",
          "name": "stdout",
          "text": [
            "{'так', 'много', 'а', 'кто', 'этого', 'уж', 'там', 'мы', 'при', 'чуть', 'была', 'эти', 'но', 'вас', 'тогда', 'один', 'из', 'надо', 'всегда', 'ж', 'во', 'может', 'они', 'нет', 'куда', 'уже', 'со', 'мне', 'под', 'моя', 'тут', 'вот', 'им', 'можно', 'тем', 'что', 'только', 'даже', 'ли', 'сейчас', 'нее', 'тоже', 'лучше', 'между', 'еще', 'на', 'совсем', 'мой', 'теперь', 'этом', 'более', 'о', 'об', 'где', 'ней', 'всю', 'ну', 'хоть', 'после', 'когда', 'почти', 'два', 'них', 'был', 'всех', 'какая', 'я', 'такой', 'за', 'то', 'себя', 'с', 'было', 'ему', 'для', 'если', 'сам', 'эту', 'разве', 'у', 'ведь', 'нас', 'вы', 'раз', 'этот', 'были', 'хорошо', 'больше', 'здесь', 'не', 'наконец', 'того', 'через', 'все', 'ты', 'том', 'чего', 'будет', 'зачем', 'нибудь', 'она', 'к', 'и', 'от', 'потому', 'свою', 'есть', 'опять', 'чем', 'всего', 'бы', 'его', 'вдруг', 'какой', 'будто', 'про', 'без', 'чтоб', 'чтобы', 'впрочем', 'по', 'никогда', 'над', 'он', 'их', 'как', 'перед', 'конечно', 'тот', 'ни', 'вам', 'ним', 'другой', 'него', 'да', 'ничего', 'себе', 'этой', 'потом', 'тебя', 'же', 'в', 'ее', 'ей', 'или', 'быть', 'меня', 'нельзя', 'иногда', 'до', 'три'}\n"
          ]
        }
      ]
    },
    {
      "cell_type": "code",
      "source": [
        "stopword_eng = set(stopwords.words(\"english\"))"
      ],
      "metadata": {
        "id": "uwsMiHmJRxBJ"
      },
      "execution_count": 47,
      "outputs": []
    },
    {
      "cell_type": "code",
      "source": [
        "print([word for word in list(tokens_word) if word not in stopword_eng])\n",
        "print(list(tokens_word))"
      ],
      "metadata": {
        "colab": {
          "base_uri": "https://localhost:8080/"
        },
        "id": "Nv_RBCjPQ2b6",
        "outputId": "a85783a9-ac98-4ffa-a31c-1bee2e19572a"
      },
      "execution_count": 49,
      "outputs": [
        {
          "output_type": "stream",
          "name": "stdout",
          "text": [
            "['work', 'play', 'makes', 'jack', 'dull', 'boy', ',', 'work', 'play']\n",
            "['all', 'work', 'and', 'no', 'play', 'makes', 'jack', 'a', 'dull', 'boy', ',', 'all', 'work', 'and', 'no', 'play']\n"
          ]
        }
      ]
    },
    {
      "cell_type": "code",
      "source": [
        "!pip install -q pymorphy2"
      ],
      "metadata": {
        "id": "SDYim_mQQ0kI"
      },
      "execution_count": 52,
      "outputs": []
    },
    {
      "cell_type": "code",
      "source": [
        "import pymorphy2"
      ],
      "metadata": {
        "id": "Kxj3wGUTTAtf"
      },
      "execution_count": 53,
      "outputs": []
    },
    {
      "cell_type": "code",
      "source": [
        "morph = pymorphy2.MorphAnalyzer()\n",
        "input = \"Эта единица языка, которая представляет собой грамматически организованное соединение слов, обладающее смысловой и интонационной законченностью. С точки зрения пунктуации, предложение как законченная единица речи оформляется в конце точкой, восклицательным или вопросительным знаками - или многоточием. Также предложение является синонимом «фразы»\"\n",
        "pymorphy_results = list(map(lambda x: morph.parse(x),input.split(\" \") ))\n",
        "print(\" \".join([res[0].normal_form for res in pymorphy_results]))\n",
        "print(pymorphy_results)"
      ],
      "metadata": {
        "colab": {
          "base_uri": "https://localhost:8080/"
        },
        "id": "_ZwhKDLgTMly",
        "outputId": "2c304796-ed8b-4810-d44b-7d5b17b7dd51"
      },
      "execution_count": 59,
      "outputs": [
        {
          "output_type": "stream",
          "name": "stdout",
          "text": [
            "этот единица языка, который представлять себя грамматически организовать соединение слов, обладать смысловой и интонационный законченностью. с точка зрение пунктуации, предложение как закончить единица речь оформляться в конец точкой, восклицательный или вопросительный знак - или многоточием. также предложение являться синоним «фразы»\n",
            "[[Parse(word='эта', tag=OpencorporaTag('ADJF,Subx,Apro,Anph femn,sing,nomn'), normal_form='этот', score=1.0, methods_stack=((DictionaryAnalyzer(), 'эта', 3241, 7),))], [Parse(word='единица', tag=OpencorporaTag('NOUN,inan,femn,Inmx sing,nomn'), normal_form='единица', score=1.0, methods_stack=((DictionaryAnalyzer(), 'единица', 1441, 0),))], [Parse(word='языка,', tag=OpencorporaTag('UNKN'), normal_form='языка,', score=1.0, methods_stack=((UnknAnalyzer(), 'языка,'),))], [Parse(word='которая', tag=OpencorporaTag('ADJF,Subx,Apro,Anph femn,sing,nomn'), normal_form='который', score=1.0, methods_stack=((DictionaryAnalyzer(), 'которая', 1867, 7),))], [Parse(word='представляет', tag=OpencorporaTag('VERB,impf,tran sing,3per,pres,indc'), normal_form='представлять', score=1.0, methods_stack=((DictionaryAnalyzer(), 'представляет', 215, 5),))], [Parse(word='собой', tag=OpencorporaTag('NPRO,Anph sing,ablt'), normal_form='себя', score=1.0, methods_stack=((DictionaryAnalyzer(), 'собой', 2857, 3),))], [Parse(word='грамматически', tag=OpencorporaTag('ADVB'), normal_form='грамматически', score=1.0, methods_stack=((DictionaryAnalyzer(), 'грамматически', 3, 0),))], [Parse(word='организованное', tag=OpencorporaTag('PRTF,perf,tran,past,pssv neut,sing,nomn'), normal_form='организовать', score=0.16666666666666666, methods_stack=((DictionaryAnalyzer(), 'организованное', 76, 69),)), Parse(word='организованное', tag=OpencorporaTag('PRTF,perf,tran,past,pssv neut,sing,accs'), normal_form='организовать', score=0.16666666666666666, methods_stack=((DictionaryAnalyzer(), 'организованное', 76, 72),)), Parse(word='организованное', tag=OpencorporaTag('PRTF,impf,tran,past,pssv neut,sing,nomn'), normal_form='организовать', score=0.16666666666666666, methods_stack=((DictionaryAnalyzer(), 'организованное', 76, 179),)), Parse(word='организованное', tag=OpencorporaTag('PRTF,impf,tran,past,pssv neut,sing,accs'), normal_form='организовать', score=0.16666666666666666, methods_stack=((DictionaryAnalyzer(), 'организованное', 76, 182),)), Parse(word='организованное', tag=OpencorporaTag('ADJF neut,sing,nomn'), normal_form='организованный', score=0.16666666666666666, methods_stack=((DictionaryAnalyzer(), 'организованное', 2321, 14),)), Parse(word='организованное', tag=OpencorporaTag('ADJF neut,sing,accs'), normal_form='организованный', score=0.16666666666666666, methods_stack=((DictionaryAnalyzer(), 'организованное', 2321, 17),))], [Parse(word='соединение', tag=OpencorporaTag('NOUN,inan,neut sing,nomn'), normal_form='соединение', score=0.8, methods_stack=((DictionaryAnalyzer(), 'соединение', 77, 0),)), Parse(word='соединение', tag=OpencorporaTag('NOUN,inan,neut sing,accs'), normal_form='соединение', score=0.2, methods_stack=((DictionaryAnalyzer(), 'соединение', 77, 6),))], [Parse(word='слов,', tag=OpencorporaTag('UNKN'), normal_form='слов,', score=1.0, methods_stack=((UnknAnalyzer(), 'слов,'),))], [Parse(word='обладающее', tag=OpencorporaTag('PRTF,impf,intr,pres,actv neut,sing,nomn'), normal_form='обладать', score=0.5, methods_stack=((DictionaryAnalyzer(), 'обладающее', 15, 27),)), Parse(word='обладающее', tag=OpencorporaTag('PRTF,impf,intr,pres,actv neut,sing,accs'), normal_form='обладать', score=0.5, methods_stack=((DictionaryAnalyzer(), 'обладающее', 15, 30),))], [Parse(word='смысловой', tag=OpencorporaTag('ADJF masc,sing,nomn'), normal_form='смысловой', score=0.16666666666666666, methods_stack=((DictionaryAnalyzer(), 'смысловой', 138, 0),)), Parse(word='смысловой', tag=OpencorporaTag('ADJF inan,masc,sing,accs'), normal_form='смысловой', score=0.16666666666666666, methods_stack=((DictionaryAnalyzer(), 'смысловой', 138, 4),)), Parse(word='смысловой', tag=OpencorporaTag('ADJF femn,sing,gent'), normal_form='смысловой', score=0.16666666666666666, methods_stack=((DictionaryAnalyzer(), 'смысловой', 138, 8),)), Parse(word='смысловой', tag=OpencorporaTag('ADJF femn,sing,datv'), normal_form='смысловой', score=0.16666666666666666, methods_stack=((DictionaryAnalyzer(), 'смысловой', 138, 9),)), Parse(word='смысловой', tag=OpencorporaTag('ADJF femn,sing,ablt'), normal_form='смысловой', score=0.16666666666666666, methods_stack=((DictionaryAnalyzer(), 'смысловой', 138, 11),)), Parse(word='смысловой', tag=OpencorporaTag('ADJF femn,sing,loct'), normal_form='смысловой', score=0.16666666666666666, methods_stack=((DictionaryAnalyzer(), 'смысловой', 138, 13),))], [Parse(word='и', tag=OpencorporaTag('CONJ'), normal_form='и', score=0.998263, methods_stack=((DictionaryAnalyzer(), 'и', 20, 0),)), Parse(word='и', tag=OpencorporaTag('PRCL'), normal_form='и', score=0.000306, methods_stack=((DictionaryAnalyzer(), 'и', 22, 0),)), Parse(word='и', tag=OpencorporaTag('INTJ'), normal_form='и', score=0.000204, methods_stack=((DictionaryAnalyzer(), 'и', 21, 0),)), Parse(word='и', tag=OpencorporaTag('NOUN,anim,masc,Fixd,Abbr sing,nomn'), normal_form='и', score=0.000102, methods_stack=((DictionaryAnalyzer(), 'и', 3289, 0),)), Parse(word='и', tag=OpencorporaTag('NOUN,anim,masc,Fixd,Abbr sing,gent'), normal_form='и', score=0.000102, methods_stack=((DictionaryAnalyzer(), 'и', 3289, 1),)), Parse(word='и', tag=OpencorporaTag('NOUN,anim,masc,Fixd,Abbr sing,datv'), normal_form='и', score=0.000102, methods_stack=((DictionaryAnalyzer(), 'и', 3289, 2),)), Parse(word='и', tag=OpencorporaTag('NOUN,anim,masc,Fixd,Abbr sing,accs'), normal_form='и', score=0.000102, methods_stack=((DictionaryAnalyzer(), 'и', 3289, 3),)), Parse(word='и', tag=OpencorporaTag('NOUN,anim,masc,Fixd,Abbr sing,ablt'), normal_form='и', score=0.000102, methods_stack=((DictionaryAnalyzer(), 'и', 3289, 4),)), Parse(word='и', tag=OpencorporaTag('NOUN,anim,masc,Fixd,Abbr sing,loct'), normal_form='и', score=0.000102, methods_stack=((DictionaryAnalyzer(), 'и', 3289, 5),)), Parse(word='и', tag=OpencorporaTag('NOUN,anim,masc,Fixd,Abbr plur,nomn'), normal_form='и', score=0.000102, methods_stack=((DictionaryAnalyzer(), 'и', 3289, 6),)), Parse(word='и', tag=OpencorporaTag('NOUN,anim,masc,Fixd,Abbr plur,gent'), normal_form='и', score=0.000102, methods_stack=((DictionaryAnalyzer(), 'и', 3289, 7),)), Parse(word='и', tag=OpencorporaTag('NOUN,anim,masc,Fixd,Abbr plur,datv'), normal_form='и', score=0.000102, methods_stack=((DictionaryAnalyzer(), 'и', 3289, 8),)), Parse(word='и', tag=OpencorporaTag('NOUN,anim,masc,Fixd,Abbr plur,accs'), normal_form='и', score=0.000102, methods_stack=((DictionaryAnalyzer(), 'и', 3289, 9),)), Parse(word='и', tag=OpencorporaTag('NOUN,anim,masc,Fixd,Abbr plur,ablt'), normal_form='и', score=0.000102, methods_stack=((DictionaryAnalyzer(), 'и', 3289, 10),)), Parse(word='и', tag=OpencorporaTag('NOUN,anim,masc,Fixd,Abbr plur,loct'), normal_form='и', score=0.000102, methods_stack=((DictionaryAnalyzer(), 'и', 3289, 11),))], [Parse(word='интонационной', tag=OpencorporaTag('ADJF femn,sing,gent'), normal_form='интонационный', score=0.25, methods_stack=((DictionaryAnalyzer(), 'интонационной', 70, 8),)), Parse(word='интонационной', tag=OpencorporaTag('ADJF femn,sing,datv'), normal_form='интонационный', score=0.25, methods_stack=((DictionaryAnalyzer(), 'интонационной', 70, 9),)), Parse(word='интонационной', tag=OpencorporaTag('ADJF femn,sing,ablt'), normal_form='интонационный', score=0.25, methods_stack=((DictionaryAnalyzer(), 'интонационной', 70, 11),)), Parse(word='интонационной', tag=OpencorporaTag('ADJF femn,sing,loct'), normal_form='интонационный', score=0.25, methods_stack=((DictionaryAnalyzer(), 'интонационной', 70, 13),))], [Parse(word='законченностью.', tag=OpencorporaTag('UNKN'), normal_form='законченностью.', score=1.0, methods_stack=((UnknAnalyzer(), 'конченностью.'), (KnownPrefixAnalyzer(known_prefixes=<...>, min_remainder_length=3, score_multiplier=0.75), 'за')))], [Parse(word='с', tag=OpencorporaTag('PREP'), normal_form='с', score=0.997625, methods_stack=((DictionaryAnalyzer(), 'с', 393, 0),)), Parse(word='с', tag=OpencorporaTag('NOUN,inan,femn,Fixd,Abbr plur,nomn'), normal_form='с', score=0.000407, methods_stack=((DictionaryAnalyzer(), 'с', 214, 6),)), Parse(word='с', tag=OpencorporaTag('PRCL'), normal_form='с', score=0.000271, methods_stack=((DictionaryAnalyzer(), 'с', 22, 0),)), Parse(word='с', tag=OpencorporaTag('NOUN,inan,femn,Fixd,Abbr sing,nomn'), normal_form='с', score=6.7e-05, methods_stack=((DictionaryAnalyzer(), 'с', 214, 0),)), Parse(word='с', tag=OpencorporaTag('NOUN,inan,femn,Fixd,Abbr sing,gent'), normal_form='с', score=6.7e-05, methods_stack=((DictionaryAnalyzer(), 'с', 214, 1),)), Parse(word='с', tag=OpencorporaTag('NOUN,inan,femn,Fixd,Abbr sing,datv'), normal_form='с', score=6.7e-05, methods_stack=((DictionaryAnalyzer(), 'с', 214, 2),)), Parse(word='с', tag=OpencorporaTag('NOUN,inan,femn,Fixd,Abbr sing,accs'), normal_form='с', score=6.7e-05, methods_stack=((DictionaryAnalyzer(), 'с', 214, 3),)), Parse(word='с', tag=OpencorporaTag('NOUN,inan,femn,Fixd,Abbr sing,ablt'), normal_form='с', score=6.7e-05, methods_stack=((DictionaryAnalyzer(), 'с', 214, 4),)), Parse(word='с', tag=OpencorporaTag('NOUN,inan,femn,Fixd,Abbr sing,loct'), normal_form='с', score=6.7e-05, methods_stack=((DictionaryAnalyzer(), 'с', 214, 5),)), Parse(word='с', tag=OpencorporaTag('NOUN,inan,femn,Fixd,Abbr plur,gent'), normal_form='с', score=6.7e-05, methods_stack=((DictionaryAnalyzer(), 'с', 214, 7),)), Parse(word='с', tag=OpencorporaTag('NOUN,inan,femn,Fixd,Abbr plur,datv'), normal_form='с', score=6.7e-05, methods_stack=((DictionaryAnalyzer(), 'с', 214, 8),)), Parse(word='с', tag=OpencorporaTag('NOUN,inan,femn,Fixd,Abbr plur,accs'), normal_form='с', score=6.7e-05, methods_stack=((DictionaryAnalyzer(), 'с', 214, 9),)), Parse(word='с', tag=OpencorporaTag('NOUN,inan,femn,Fixd,Abbr plur,ablt'), normal_form='с', score=6.7e-05, methods_stack=((DictionaryAnalyzer(), 'с', 214, 10),)), Parse(word='с', tag=OpencorporaTag('NOUN,inan,femn,Fixd,Abbr plur,loct'), normal_form='с', score=6.7e-05, methods_stack=((DictionaryAnalyzer(), 'с', 214, 11),)), Parse(word='с', tag=OpencorporaTag('NOUN,inan,neut,Fixd,Abbr sing,nomn'), normal_form='с', score=6.7e-05, methods_stack=((DictionaryAnalyzer(), 'с', 812, 0),)), Parse(word='с', tag=OpencorporaTag('NOUN,inan,neut,Fixd,Abbr sing,gent'), normal_form='с', score=6.7e-05, methods_stack=((DictionaryAnalyzer(), 'с', 812, 1),)), Parse(word='с', tag=OpencorporaTag('NOUN,inan,neut,Fixd,Abbr sing,datv'), normal_form='с', score=6.7e-05, methods_stack=((DictionaryAnalyzer(), 'с', 812, 2),)), Parse(word='с', tag=OpencorporaTag('NOUN,inan,neut,Fixd,Abbr sing,accs'), normal_form='с', score=6.7e-05, methods_stack=((DictionaryAnalyzer(), 'с', 812, 3),)), Parse(word='с', tag=OpencorporaTag('NOUN,inan,neut,Fixd,Abbr sing,ablt'), normal_form='с', score=6.7e-05, methods_stack=((DictionaryAnalyzer(), 'с', 812, 4),)), Parse(word='с', tag=OpencorporaTag('NOUN,inan,neut,Fixd,Abbr sing,loct'), normal_form='с', score=6.7e-05, methods_stack=((DictionaryAnalyzer(), 'с', 812, 5),)), Parse(word='с', tag=OpencorporaTag('NOUN,inan,neut,Fixd,Abbr plur,nomn'), normal_form='с', score=6.7e-05, methods_stack=((DictionaryAnalyzer(), 'с', 812, 6),)), Parse(word='с', tag=OpencorporaTag('NOUN,inan,neut,Fixd,Abbr plur,gent'), normal_form='с', score=6.7e-05, methods_stack=((DictionaryAnalyzer(), 'с', 812, 7),)), Parse(word='с', tag=OpencorporaTag('NOUN,inan,neut,Fixd,Abbr plur,datv'), normal_form='с', score=6.7e-05, methods_stack=((DictionaryAnalyzer(), 'с', 812, 8),)), Parse(word='с', tag=OpencorporaTag('NOUN,inan,neut,Fixd,Abbr plur,accs'), normal_form='с', score=6.7e-05, methods_stack=((DictionaryAnalyzer(), 'с', 812, 9),)), Parse(word='с', tag=OpencorporaTag('NOUN,inan,neut,Fixd,Abbr plur,ablt'), normal_form='с', score=6.7e-05, methods_stack=((DictionaryAnalyzer(), 'с', 812, 10),)), Parse(word='с', tag=OpencorporaTag('NOUN,inan,neut,Fixd,Abbr plur,loct'), normal_form='с', score=6.7e-05, methods_stack=((DictionaryAnalyzer(), 'с', 812, 11),)), Parse(word='с', tag=OpencorporaTag('NOUN,anim,masc,Sgtm,Name,Fixd,Abbr,Init sing,nomn'), normal_form='с', score=0.0, methods_stack=((AbbreviatedFirstNameAnalyzer(letters='АБВГДЕЁЖЗИЙКЛМНОПРСТУФХЦЧШЩЭЮЯ', score=0.1, tag_pattern='NOUN,anim,%(gender)s,Sgtm,Name,Fixd,Abbr,Init sing,%(case)s'), 'С'),)), Parse(word='с', tag=OpencorporaTag('NOUN,anim,masc,Sgtm,Name,Fixd,Abbr,Init sing,gent'), normal_form='с', score=0.0, methods_stack=((AbbreviatedFirstNameAnalyzer(letters='АБВГДЕЁЖЗИЙКЛМНОПРСТУФХЦЧШЩЭЮЯ', score=0.1, tag_pattern='NOUN,anim,%(gender)s,Sgtm,Name,Fixd,Abbr,Init sing,%(case)s'), 'С'),)), Parse(word='с', tag=OpencorporaTag('NOUN,anim,masc,Sgtm,Name,Fixd,Abbr,Init sing,datv'), normal_form='с', score=0.0, methods_stack=((AbbreviatedFirstNameAnalyzer(letters='АБВГДЕЁЖЗИЙКЛМНОПРСТУФХЦЧШЩЭЮЯ', score=0.1, tag_pattern='NOUN,anim,%(gender)s,Sgtm,Name,Fixd,Abbr,Init sing,%(case)s'), 'С'),)), Parse(word='с', tag=OpencorporaTag('NOUN,anim,masc,Sgtm,Name,Fixd,Abbr,Init sing,accs'), normal_form='с', score=0.0, methods_stack=((AbbreviatedFirstNameAnalyzer(letters='АБВГДЕЁЖЗИЙКЛМНОПРСТУФХЦЧШЩЭЮЯ', score=0.1, tag_pattern='NOUN,anim,%(gender)s,Sgtm,Name,Fixd,Abbr,Init sing,%(case)s'), 'С'),)), Parse(word='с', tag=OpencorporaTag('NOUN,anim,masc,Sgtm,Name,Fixd,Abbr,Init sing,ablt'), normal_form='с', score=0.0, methods_stack=((AbbreviatedFirstNameAnalyzer(letters='АБВГДЕЁЖЗИЙКЛМНОПРСТУФХЦЧШЩЭЮЯ', score=0.1, tag_pattern='NOUN,anim,%(gender)s,Sgtm,Name,Fixd,Abbr,Init sing,%(case)s'), 'С'),)), Parse(word='с', tag=OpencorporaTag('NOUN,anim,masc,Sgtm,Name,Fixd,Abbr,Init sing,loct'), normal_form='с', score=0.0, methods_stack=((AbbreviatedFirstNameAnalyzer(letters='АБВГДЕЁЖЗИЙКЛМНОПРСТУФХЦЧШЩЭЮЯ', score=0.1, tag_pattern='NOUN,anim,%(gender)s,Sgtm,Name,Fixd,Abbr,Init sing,%(case)s'), 'С'),)), Parse(word='с', tag=OpencorporaTag('NOUN,anim,femn,Sgtm,Name,Fixd,Abbr,Init sing,nomn'), normal_form='с', score=0.0, methods_stack=((AbbreviatedFirstNameAnalyzer(letters='АБВГДЕЁЖЗИЙКЛМНОПРСТУФХЦЧШЩЭЮЯ', score=0.1, tag_pattern='NOUN,anim,%(gender)s,Sgtm,Name,Fixd,Abbr,Init sing,%(case)s'), 'С'),)), Parse(word='с', tag=OpencorporaTag('NOUN,anim,femn,Sgtm,Name,Fixd,Abbr,Init sing,gent'), normal_form='с', score=0.0, methods_stack=((AbbreviatedFirstNameAnalyzer(letters='АБВГДЕЁЖЗИЙКЛМНОПРСТУФХЦЧШЩЭЮЯ', score=0.1, tag_pattern='NOUN,anim,%(gender)s,Sgtm,Name,Fixd,Abbr,Init sing,%(case)s'), 'С'),)), Parse(word='с', tag=OpencorporaTag('NOUN,anim,femn,Sgtm,Name,Fixd,Abbr,Init sing,datv'), normal_form='с', score=0.0, methods_stack=((AbbreviatedFirstNameAnalyzer(letters='АБВГДЕЁЖЗИЙКЛМНОПРСТУФХЦЧШЩЭЮЯ', score=0.1, tag_pattern='NOUN,anim,%(gender)s,Sgtm,Name,Fixd,Abbr,Init sing,%(case)s'), 'С'),)), Parse(word='с', tag=OpencorporaTag('NOUN,anim,femn,Sgtm,Name,Fixd,Abbr,Init sing,accs'), normal_form='с', score=0.0, methods_stack=((AbbreviatedFirstNameAnalyzer(letters='АБВГДЕЁЖЗИЙКЛМНОПРСТУФХЦЧШЩЭЮЯ', score=0.1, tag_pattern='NOUN,anim,%(gender)s,Sgtm,Name,Fixd,Abbr,Init sing,%(case)s'), 'С'),)), Parse(word='с', tag=OpencorporaTag('NOUN,anim,femn,Sgtm,Name,Fixd,Abbr,Init sing,ablt'), normal_form='с', score=0.0, methods_stack=((AbbreviatedFirstNameAnalyzer(letters='АБВГДЕЁЖЗИЙКЛМНОПРСТУФХЦЧШЩЭЮЯ', score=0.1, tag_pattern='NOUN,anim,%(gender)s,Sgtm,Name,Fixd,Abbr,Init sing,%(case)s'), 'С'),)), Parse(word='с', tag=OpencorporaTag('NOUN,anim,femn,Sgtm,Name,Fixd,Abbr,Init sing,loct'), normal_form='с', score=0.0, methods_stack=((AbbreviatedFirstNameAnalyzer(letters='АБВГДЕЁЖЗИЙКЛМНОПРСТУФХЦЧШЩЭЮЯ', score=0.1, tag_pattern='NOUN,anim,%(gender)s,Sgtm,Name,Fixd,Abbr,Init sing,%(case)s'), 'С'),)), Parse(word='с', tag=OpencorporaTag('NOUN,anim,masc,Sgtm,Patr,Fixd,Abbr,Init sing,nomn'), normal_form='с', score=0.0, methods_stack=((AbbreviatedPatronymicAnalyzer(letters='АБВГДЕЁЖЗИЙКЛМНОПРСТУФХЦЧШЩЭЮЯ', score=0.1, tag_pattern='NOUN,anim,%(gender)s,Sgtm,Patr,Fixd,Abbr,Init sing,%(case)s'), 'С'),)), Parse(word='с', tag=OpencorporaTag('NOUN,anim,masc,Sgtm,Patr,Fixd,Abbr,Init sing,gent'), normal_form='с', score=0.0, methods_stack=((AbbreviatedPatronymicAnalyzer(letters='АБВГДЕЁЖЗИЙКЛМНОПРСТУФХЦЧШЩЭЮЯ', score=0.1, tag_pattern='NOUN,anim,%(gender)s,Sgtm,Patr,Fixd,Abbr,Init sing,%(case)s'), 'С'),)), Parse(word='с', tag=OpencorporaTag('NOUN,anim,masc,Sgtm,Patr,Fixd,Abbr,Init sing,datv'), normal_form='с', score=0.0, methods_stack=((AbbreviatedPatronymicAnalyzer(letters='АБВГДЕЁЖЗИЙКЛМНОПРСТУФХЦЧШЩЭЮЯ', score=0.1, tag_pattern='NOUN,anim,%(gender)s,Sgtm,Patr,Fixd,Abbr,Init sing,%(case)s'), 'С'),)), Parse(word='с', tag=OpencorporaTag('NOUN,anim,masc,Sgtm,Patr,Fixd,Abbr,Init sing,accs'), normal_form='с', score=0.0, methods_stack=((AbbreviatedPatronymicAnalyzer(letters='АБВГДЕЁЖЗИЙКЛМНОПРСТУФХЦЧШЩЭЮЯ', score=0.1, tag_pattern='NOUN,anim,%(gender)s,Sgtm,Patr,Fixd,Abbr,Init sing,%(case)s'), 'С'),)), Parse(word='с', tag=OpencorporaTag('NOUN,anim,masc,Sgtm,Patr,Fixd,Abbr,Init sing,ablt'), normal_form='с', score=0.0, methods_stack=((AbbreviatedPatronymicAnalyzer(letters='АБВГДЕЁЖЗИЙКЛМНОПРСТУФХЦЧШЩЭЮЯ', score=0.1, tag_pattern='NOUN,anim,%(gender)s,Sgtm,Patr,Fixd,Abbr,Init sing,%(case)s'), 'С'),)), Parse(word='с', tag=OpencorporaTag('NOUN,anim,masc,Sgtm,Patr,Fixd,Abbr,Init sing,loct'), normal_form='с', score=0.0, methods_stack=((AbbreviatedPatronymicAnalyzer(letters='АБВГДЕЁЖЗИЙКЛМНОПРСТУФХЦЧШЩЭЮЯ', score=0.1, tag_pattern='NOUN,anim,%(gender)s,Sgtm,Patr,Fixd,Abbr,Init sing,%(case)s'), 'С'),)), Parse(word='с', tag=OpencorporaTag('NOUN,anim,femn,Sgtm,Patr,Fixd,Abbr,Init sing,nomn'), normal_form='с', score=0.0, methods_stack=((AbbreviatedPatronymicAnalyzer(letters='АБВГДЕЁЖЗИЙКЛМНОПРСТУФХЦЧШЩЭЮЯ', score=0.1, tag_pattern='NOUN,anim,%(gender)s,Sgtm,Patr,Fixd,Abbr,Init sing,%(case)s'), 'С'),)), Parse(word='с', tag=OpencorporaTag('NOUN,anim,femn,Sgtm,Patr,Fixd,Abbr,Init sing,gent'), normal_form='с', score=0.0, methods_stack=((AbbreviatedPatronymicAnalyzer(letters='АБВГДЕЁЖЗИЙКЛМНОПРСТУФХЦЧШЩЭЮЯ', score=0.1, tag_pattern='NOUN,anim,%(gender)s,Sgtm,Patr,Fixd,Abbr,Init sing,%(case)s'), 'С'),)), Parse(word='с', tag=OpencorporaTag('NOUN,anim,femn,Sgtm,Patr,Fixd,Abbr,Init sing,datv'), normal_form='с', score=0.0, methods_stack=((AbbreviatedPatronymicAnalyzer(letters='АБВГДЕЁЖЗИЙКЛМНОПРСТУФХЦЧШЩЭЮЯ', score=0.1, tag_pattern='NOUN,anim,%(gender)s,Sgtm,Patr,Fixd,Abbr,Init sing,%(case)s'), 'С'),)), Parse(word='с', tag=OpencorporaTag('NOUN,anim,femn,Sgtm,Patr,Fixd,Abbr,Init sing,accs'), normal_form='с', score=0.0, methods_stack=((AbbreviatedPatronymicAnalyzer(letters='АБВГДЕЁЖЗИЙКЛМНОПРСТУФХЦЧШЩЭЮЯ', score=0.1, tag_pattern='NOUN,anim,%(gender)s,Sgtm,Patr,Fixd,Abbr,Init sing,%(case)s'), 'С'),)), Parse(word='с', tag=OpencorporaTag('NOUN,anim,femn,Sgtm,Patr,Fixd,Abbr,Init sing,ablt'), normal_form='с', score=0.0, methods_stack=((AbbreviatedPatronymicAnalyzer(letters='АБВГДЕЁЖЗИЙКЛМНОПРСТУФХЦЧШЩЭЮЯ', score=0.1, tag_pattern='NOUN,anim,%(gender)s,Sgtm,Patr,Fixd,Abbr,Init sing,%(case)s'), 'С'),)), Parse(word='с', tag=OpencorporaTag('NOUN,anim,femn,Sgtm,Patr,Fixd,Abbr,Init sing,loct'), normal_form='с', score=0.0, methods_stack=((AbbreviatedPatronymicAnalyzer(letters='АБВГДЕЁЖЗИЙКЛМНОПРСТУФХЦЧШЩЭЮЯ', score=0.1, tag_pattern='NOUN,anim,%(gender)s,Sgtm,Patr,Fixd,Abbr,Init sing,%(case)s'), 'С'),))], [Parse(word='точки', tag=OpencorporaTag('NOUN,inan,femn sing,gent'), normal_form='точка', score=0.891891, methods_stack=((DictionaryAnalyzer(), 'точки', 9, 1),)), Parse(word='точки', tag=OpencorporaTag('NOUN,inan,femn plur,accs'), normal_form='точка', score=0.061776, methods_stack=((DictionaryAnalyzer(), 'точки', 9, 10),)), Parse(word='точки', tag=OpencorporaTag('NOUN,inan,femn plur,nomn'), normal_form='точка', score=0.046332, methods_stack=((DictionaryAnalyzer(), 'точки', 9, 7),))], [Parse(word='зрения', tag=OpencorporaTag('NOUN,inan,neut sing,gent'), normal_form='зрение', score=0.992424, methods_stack=((DictionaryAnalyzer(), 'зрения', 77, 2),)), Parse(word='зрения', tag=OpencorporaTag('NOUN,inan,neut plur,nomn'), normal_form='зрение', score=0.003787, methods_stack=((DictionaryAnalyzer(), 'зрения', 77, 13),)), Parse(word='зрения', tag=OpencorporaTag('NOUN,inan,neut plur,accs'), normal_form='зрение', score=0.003787, methods_stack=((DictionaryAnalyzer(), 'зрения', 77, 18),))], [Parse(word='пунктуации,', tag=OpencorporaTag('UNKN'), normal_form='пунктуации,', score=1.0, methods_stack=((UnknAnalyzer(), 'пунктуации,'),))], [Parse(word='предложение', tag=OpencorporaTag('NOUN,inan,neut sing,accs'), normal_form='предложение', score=0.531914, methods_stack=((DictionaryAnalyzer(), 'предложение', 77, 6),)), Parse(word='предложение', tag=OpencorporaTag('NOUN,inan,neut sing,nomn'), normal_form='предложение', score=0.468085, methods_stack=((DictionaryAnalyzer(), 'предложение', 77, 0),))], [Parse(word='как', tag=OpencorporaTag('CONJ'), normal_form='как', score=0.827586, methods_stack=((DictionaryAnalyzer(), 'как', 1751, 0),)), Parse(word='как', tag=OpencorporaTag('ADVB,Ques'), normal_form='как', score=0.103448, methods_stack=((DictionaryAnalyzer(), 'как', 1181, 0),)), Parse(word='как', tag=OpencorporaTag('PRCL'), normal_form='как', score=0.068965, methods_stack=((DictionaryAnalyzer(), 'как', 22, 0),))], [Parse(word='законченная', tag=OpencorporaTag('PRTF,perf,tran,past,pssv,Adjx femn,sing,nomn'), normal_form='закончить', score=1.0, methods_stack=((DictionaryAnalyzer(), 'законченная', 856, 49),))], [Parse(word='единица', tag=OpencorporaTag('NOUN,inan,femn,Inmx sing,nomn'), normal_form='единица', score=1.0, methods_stack=((DictionaryAnalyzer(), 'единица', 1441, 0),))], [Parse(word='речи', tag=OpencorporaTag('NOUN,inan,femn sing,gent'), normal_form='речь', score=0.557692, methods_stack=((DictionaryAnalyzer(), 'речи', 454, 1),)), Parse(word='речи', tag=OpencorporaTag('NOUN,inan,femn sing,loct'), normal_form='речь', score=0.288461, methods_stack=((DictionaryAnalyzer(), 'речи', 454, 5),)), Parse(word='речи', tag=OpencorporaTag('NOUN,inan,femn plur,nomn'), normal_form='речь', score=0.067307, methods_stack=((DictionaryAnalyzer(), 'речи', 454, 6),)), Parse(word='речи', tag=OpencorporaTag('NOUN,inan,femn plur,accs'), normal_form='речь', score=0.057692, methods_stack=((DictionaryAnalyzer(), 'речи', 454, 9),)), Parse(word='речи', tag=OpencorporaTag('NOUN,inan,femn sing,datv'), normal_form='речь', score=0.028846, methods_stack=((DictionaryAnalyzer(), 'речи', 454, 2),))], [Parse(word='оформляется', tag=OpencorporaTag('VERB,impf,intr sing,3per,pres,indc'), normal_form='оформляться', score=1.0, methods_stack=((DictionaryAnalyzer(), 'оформляется', 234, 5),))], [Parse(word='в', tag=OpencorporaTag('PREP'), normal_form='в', score=0.999327, methods_stack=((DictionaryAnalyzer(), 'в', 393, 0),)), Parse(word='в', tag=OpencorporaTag('NOUN,inan,masc,Fixd,Abbr sing,gent'), normal_form='в', score=0.000249, methods_stack=((DictionaryAnalyzer(), 'в', 349, 1),)), Parse(word='в', tag=OpencorporaTag('NOUN,inan,masc,Fixd,Abbr sing,loct'), normal_form='в', score=5.7e-05, methods_stack=((DictionaryAnalyzer(), 'в', 349, 5),)), Parse(word='в', tag=OpencorporaTag('NOUN,inan,masc,Fixd,Abbr sing,nomn'), normal_form='в', score=1.9e-05, methods_stack=((DictionaryAnalyzer(), 'в', 349, 0),)), Parse(word='в', tag=OpencorporaTag('NOUN,inan,masc,Fixd,Abbr sing,datv'), normal_form='в', score=1.9e-05, methods_stack=((DictionaryAnalyzer(), 'в', 349, 2),)), Parse(word='в', tag=OpencorporaTag('NOUN,inan,masc,Fixd,Abbr sing,accs'), normal_form='в', score=1.9e-05, methods_stack=((DictionaryAnalyzer(), 'в', 349, 3),)), Parse(word='в', tag=OpencorporaTag('NOUN,inan,masc,Fixd,Abbr sing,ablt'), normal_form='в', score=1.9e-05, methods_stack=((DictionaryAnalyzer(), 'в', 349, 4),)), Parse(word='в', tag=OpencorporaTag('NOUN,inan,masc,Fixd,Abbr plur,nomn'), normal_form='в', score=1.9e-05, methods_stack=((DictionaryAnalyzer(), 'в', 349, 6),)), Parse(word='в', tag=OpencorporaTag('NOUN,inan,masc,Fixd,Abbr plur,gent'), normal_form='в', score=1.9e-05, methods_stack=((DictionaryAnalyzer(), 'в', 349, 7),)), Parse(word='в', tag=OpencorporaTag('NOUN,inan,masc,Fixd,Abbr plur,datv'), normal_form='в', score=1.9e-05, methods_stack=((DictionaryAnalyzer(), 'в', 349, 8),)), Parse(word='в', tag=OpencorporaTag('NOUN,inan,masc,Fixd,Abbr plur,accs'), normal_form='в', score=1.9e-05, methods_stack=((DictionaryAnalyzer(), 'в', 349, 9),)), Parse(word='в', tag=OpencorporaTag('NOUN,inan,masc,Fixd,Abbr plur,ablt'), normal_form='в', score=1.9e-05, methods_stack=((DictionaryAnalyzer(), 'в', 349, 10),)), Parse(word='в', tag=OpencorporaTag('NOUN,inan,masc,Fixd,Abbr plur,loct'), normal_form='в', score=1.9e-05, methods_stack=((DictionaryAnalyzer(), 'в', 349, 11),))], [Parse(word='конце', tag=OpencorporaTag('NOUN,inan,masc sing,loct'), normal_form='конец', score=1.0, methods_stack=((DictionaryAnalyzer(), 'конце', 293, 5),))], [Parse(word='точкой,', tag=OpencorporaTag('UNKN'), normal_form='точкой,', score=1.0, methods_stack=((UnknAnalyzer(), 'точкой,'),))], [Parse(word='восклицательным', tag=OpencorporaTag('ADJF masc,sing,ablt'), normal_form='восклицательный', score=0.5, methods_stack=((DictionaryAnalyzer(), 'восклицательным', 79, 5),)), Parse(word='восклицательным', tag=OpencorporaTag('ADJF neut,sing,ablt'), normal_form='восклицательный', score=0.25, methods_stack=((DictionaryAnalyzer(), 'восклицательным', 79, 18),)), Parse(word='восклицательным', tag=OpencorporaTag('ADJF plur,datv'), normal_form='восклицательный', score=0.25, methods_stack=((DictionaryAnalyzer(), 'восклицательным', 79, 22),))], [Parse(word='или', tag=OpencorporaTag('CONJ'), normal_form='или', score=1.0, methods_stack=((DictionaryAnalyzer(), 'или', 20, 0),))], [Parse(word='вопросительным', tag=OpencorporaTag('ADJF masc,sing,ablt'), normal_form='вопросительный', score=0.3333333333333333, methods_stack=((DictionaryAnalyzer(), 'вопросительным', 60, 5),)), Parse(word='вопросительным', tag=OpencorporaTag('ADJF neut,sing,ablt'), normal_form='вопросительный', score=0.3333333333333333, methods_stack=((DictionaryAnalyzer(), 'вопросительным', 60, 18),)), Parse(word='вопросительным', tag=OpencorporaTag('ADJF plur,datv'), normal_form='вопросительный', score=0.3333333333333333, methods_stack=((DictionaryAnalyzer(), 'вопросительным', 60, 22),))], [Parse(word='знаками', tag=OpencorporaTag('NOUN,inan,masc plur,ablt'), normal_form='знак', score=1.0, methods_stack=((DictionaryAnalyzer(), 'знаками', 19, 10),))], [Parse(word='-', tag=OpencorporaTag('PNCT'), normal_form='-', score=1.0, methods_stack=((PunctuationAnalyzer(score=0.9), '-'),))], [Parse(word='или', tag=OpencorporaTag('CONJ'), normal_form='или', score=1.0, methods_stack=((DictionaryAnalyzer(), 'или', 20, 0),))], [Parse(word='многоточием.', tag=OpencorporaTag('UNKN'), normal_form='многоточием.', score=1.0, methods_stack=((UnknAnalyzer(), 'точием.'), (KnownPrefixAnalyzer(known_prefixes=<...>, min_remainder_length=3, score_multiplier=0.75), 'много')))], [Parse(word='также', tag=OpencorporaTag('PRCL'), normal_form='также', score=1.0, methods_stack=((DictionaryAnalyzer(), 'также', 22, 0),))], [Parse(word='предложение', tag=OpencorporaTag('NOUN,inan,neut sing,accs'), normal_form='предложение', score=0.531914, methods_stack=((DictionaryAnalyzer(), 'предложение', 77, 6),)), Parse(word='предложение', tag=OpencorporaTag('NOUN,inan,neut sing,nomn'), normal_form='предложение', score=0.468085, methods_stack=((DictionaryAnalyzer(), 'предложение', 77, 0),))], [Parse(word='является', tag=OpencorporaTag('VERB,impf,intr sing,3per,pres,indc'), normal_form='являться', score=1.0, methods_stack=((DictionaryAnalyzer(), 'является', 234, 5),))], [Parse(word='синонимом', tag=OpencorporaTag('NOUN,inan,masc sing,ablt'), normal_form='синоним', score=1.0, methods_stack=((DictionaryAnalyzer(), 'синонимом', 34, 4),))], [Parse(word='«фразы»', tag=OpencorporaTag('UNKN'), normal_form='«фразы»', score=1.0, methods_stack=((UnknAnalyzer(), '«фразы»'),))]]\n"
          ]
        }
      ]
    },
    {
      "cell_type": "code",
      "source": [
        "!pip install -q rnnmorph"
      ],
      "metadata": {
        "colab": {
          "base_uri": "https://localhost:8080/"
        },
        "id": "Rp4IXZnwVXXi",
        "outputId": "0ead298f-5ea8-4ffe-bc16-d2f7ec6d0638"
      },
      "execution_count": 61,
      "outputs": [
        {
          "output_type": "stream",
          "name": "stdout",
          "text": [
            "\u001b[2K     \u001b[90m━━━━━━━━━━━━━━━━━━━━━━━━━━━━━━━━━━━━━━━━\u001b[0m \u001b[32m19.7/19.7 MB\u001b[0m \u001b[31m11.2 MB/s\u001b[0m eta \u001b[36m0:00:00\u001b[0m\n",
            "\u001b[?25h  Preparing metadata (setup.py) ... \u001b[?25l\u001b[?25hdone\n",
            "  Preparing metadata (setup.py) ... \u001b[?25l\u001b[?25hdone\n",
            "  Building wheel for rnnmorph (setup.py) ... \u001b[?25l\u001b[?25hdone\n",
            "  Building wheel for russian-tagsets (setup.py) ... \u001b[?25l\u001b[?25hdone\n"
          ]
        }
      ]
    },
    {
      "cell_type": "code",
      "source": [
        "from rnnmorph.predictor import RNNMorphPredictor\n",
        "predictor = RNNMorphPredictor(language ='ru')"
      ],
      "metadata": {
        "id": "znRzWn1pVaCC"
      },
      "execution_count": 63,
      "outputs": []
    },
    {
      "cell_type": "code",
      "source": [
        "predictor_result = predictor.predict(input.split(\" \"))\n",
        "[(token.normal_form,token.pos,token.tag) for token in predictor_result[:10]]"
      ],
      "metadata": {
        "colab": {
          "base_uri": "https://localhost:8080/"
        },
        "id": "-J3eB33NVxo_",
        "outputId": "4abe4a56-cee8-4197-d5e5-aa47443b33e0"
      },
      "execution_count": 66,
      "outputs": [
        {
          "output_type": "stream",
          "name": "stdout",
          "text": [
            "1/1 [==============================] - 0s 63ms/step\n"
          ]
        },
        {
          "output_type": "execute_result",
          "data": {
            "text/plain": [
              "[('этот', 'DET', 'Case=Nom|Gender=Fem|Number=Sing'),\n",
              " ('единица', 'NOUN', 'Case=Nom|Gender=Fem|Number=Sing'),\n",
              " ('языка,', 'PUNCT', '_'),\n",
              " ('который', 'DET', 'Case=Nom|Gender=Fem|Number=Sing'),\n",
              " ('представлять',\n",
              "  'VERB',\n",
              "  'Mood=Ind|Number=Sing|Person=3|Tense=Notpast|VerbForm=Fin|Voice=Act'),\n",
              " ('себя', 'PRON', 'Case=Ins'),\n",
              " ('грамматически', 'ADV', 'Degree=Pos'),\n",
              " ('организованный', 'ADJ', 'Case=Acc|Degree=Pos|Gender=Neut|Number=Sing'),\n",
              " ('соединение', 'NOUN', 'Case=Acc|Gender=Neut|Number=Sing'),\n",
              " ('слов,', 'PUNCT', '_')]"
            ]
          },
          "metadata": {},
          "execution_count": 66
        }
      ]
    },
    {
      "cell_type": "code",
      "source": [
        "from sklearn.datasets import fetch_20newsgroups\n",
        "news_groups_train = fetch_20newsgroups(subset = 'train')"
      ],
      "metadata": {
        "id": "c-uTOgeAWZ8S"
      },
      "execution_count": 68,
      "outputs": []
    },
    {
      "cell_type": "code",
      "source": [
        "news_groups_train.target_names"
      ],
      "metadata": {
        "colab": {
          "base_uri": "https://localhost:8080/"
        },
        "id": "hvDDoKBmYA89",
        "outputId": "ca5ba1da-8c69-4bd6-8bc2-0bc0493c5353"
      },
      "execution_count": 69,
      "outputs": [
        {
          "output_type": "execute_result",
          "data": {
            "text/plain": [
              "['alt.atheism',\n",
              " 'comp.graphics',\n",
              " 'comp.os.ms-windows.misc',\n",
              " 'comp.sys.ibm.pc.hardware',\n",
              " 'comp.sys.mac.hardware',\n",
              " 'comp.windows.x',\n",
              " 'misc.forsale',\n",
              " 'rec.autos',\n",
              " 'rec.motorcycles',\n",
              " 'rec.sport.baseball',\n",
              " 'rec.sport.hockey',\n",
              " 'sci.crypt',\n",
              " 'sci.electronics',\n",
              " 'sci.med',\n",
              " 'sci.space',\n",
              " 'soc.religion.christian',\n",
              " 'talk.politics.guns',\n",
              " 'talk.politics.mideast',\n",
              " 'talk.politics.misc',\n",
              " 'talk.religion.misc']"
            ]
          },
          "metadata": {},
          "execution_count": 69
        }
      ]
    },
    {
      "cell_type": "code",
      "source": [
        "news_groups_train.filenames.shape"
      ],
      "metadata": {
        "colab": {
          "base_uri": "https://localhost:8080/"
        },
        "id": "ythZyS6CYS2j",
        "outputId": "b59bcaed-9a74-4bf0-93e8-b2f3c22caf7c"
      },
      "execution_count": 73,
      "outputs": [
        {
          "output_type": "execute_result",
          "data": {
            "text/plain": [
              "(11314,)"
            ]
          },
          "metadata": {},
          "execution_count": 73
        }
      ]
    },
    {
      "cell_type": "code",
      "source": [
        "categories =['alt.atheism','comp.graphics','sci.electronics',\n",
        " 'sci.med','sci.space']\n",
        "news_groups_train = fetch_20newsgroups(subset = 'train',categories = categories)"
      ],
      "metadata": {
        "id": "6Hrde8e-YWWM"
      },
      "execution_count": 75,
      "outputs": []
    },
    {
      "cell_type": "code",
      "source": [
        "news_groups_train.filenames.shape"
      ],
      "metadata": {
        "colab": {
          "base_uri": "https://localhost:8080/"
        },
        "id": "IMwNrfJdZOff",
        "outputId": "11d940f2-f7bb-4e07-bba8-5ebd19e2ee99"
      },
      "execution_count": 79,
      "outputs": [
        {
          "output_type": "execute_result",
          "data": {
            "text/plain": [
              "(2842,)"
            ]
          },
          "metadata": {},
          "execution_count": 79
        }
      ]
    },
    {
      "cell_type": "code",
      "source": [
        "news_groups_train.target[:10]"
      ],
      "metadata": {
        "colab": {
          "base_uri": "https://localhost:8080/"
        },
        "id": "IejU732zZcBD",
        "outputId": "d8ff8c7f-33b3-4e71-ddfc-623f9878f60e"
      },
      "execution_count": 81,
      "outputs": [
        {
          "output_type": "execute_result",
          "data": {
            "text/plain": [
              "array([1, 1, 0, 3, 2, 1, 0, 4, 1, 1])"
            ]
          },
          "metadata": {},
          "execution_count": 81
        }
      ]
    },
    {
      "cell_type": "code",
      "source": [
        "from sklearn.feature_extraction.text import TfidfVectorizer"
      ],
      "metadata": {
        "id": "GA906jr0ZurW"
      },
      "execution_count": 83,
      "outputs": []
    },
    {
      "cell_type": "code",
      "source": [
        "vectorizer = TfidfVectorizer()\n",
        "vectors = vectorizer.fit_transform(news_groups_train.data)\n",
        "vectors.shape"
      ],
      "metadata": {
        "colab": {
          "base_uri": "https://localhost:8080/"
        },
        "id": "wY8jl5IobqKd",
        "outputId": "cd632203-a240-4ba1-8fac-7f3b3c368775"
      },
      "execution_count": 85,
      "outputs": [
        {
          "output_type": "execute_result",
          "data": {
            "text/plain": [
              "(2842, 42007)"
            ]
          },
          "metadata": {},
          "execution_count": 85
        }
      ]
    },
    {
      "cell_type": "code",
      "source": [
        "vectorizer1 = TfidfVectorizer(lowercase = False)\n",
        "vectors = vectorizer1.fit_transform(news_groups_train.data)\n",
        "vectors.shape"
      ],
      "metadata": {
        "colab": {
          "base_uri": "https://localhost:8080/"
        },
        "id": "UeqGdpg_cRtD",
        "outputId": "02d8d888-8f48-4da9-e9a3-cbf44ade0d9c"
      },
      "execution_count": 88,
      "outputs": [
        {
          "output_type": "execute_result",
          "data": {
            "text/plain": [
              "(2842, 52358)"
            ]
          },
          "metadata": {},
          "execution_count": 88
        }
      ]
    },
    {
      "cell_type": "code",
      "source": [
        "vectorizer.get_feature_names_out() [:11]"
      ],
      "metadata": {
        "colab": {
          "base_uri": "https://localhost:8080/"
        },
        "id": "V3cv5CDIcJm3",
        "outputId": "dd7bba25-1252-457e-9f33-e8c30a99211f"
      },
      "execution_count": 91,
      "outputs": [
        {
          "output_type": "execute_result",
          "data": {
            "text/plain": [
              "array(['00', '000', '0000', '00000', '000000', '0000001200',\n",
              "       '000005102000', '000021', '000062david42', '000100255pixel',\n",
              "       '00014'], dtype=object)"
            ]
          },
          "metadata": {},
          "execution_count": 91
        }
      ]
    },
    {
      "cell_type": "code",
      "source": [
        "vectorizer = TfidfVectorizer(min_df = 0.9)\n",
        "vectors = vectorizer.fit_transform(news_groups_train.data)\n",
        "vectors.shape"
      ],
      "metadata": {
        "colab": {
          "base_uri": "https://localhost:8080/"
        },
        "id": "_L_PzoQhc3Tg",
        "outputId": "79ad1808-1d74-48c4-af13-c1d1fdc3e850"
      },
      "execution_count": 96,
      "outputs": [
        {
          "output_type": "execute_result",
          "data": {
            "text/plain": [
              "(2842, 7)"
            ]
          },
          "metadata": {},
          "execution_count": 96
        }
      ]
    },
    {
      "cell_type": "code",
      "source": [
        "vectorizer.get_feature_names_out()"
      ],
      "metadata": {
        "colab": {
          "base_uri": "https://localhost:8080/"
        },
        "id": "BAT4Vff_dDFH",
        "outputId": "ba83739f-c18e-4651-b7e7-2c3d0756460b"
      },
      "execution_count": 97,
      "outputs": [
        {
          "output_type": "execute_result",
          "data": {
            "text/plain": [
              "array(['from', 'lines', 'of', 'organization', 'subject', 'the', 'to'],\n",
              "      dtype=object)"
            ]
          },
          "metadata": {},
          "execution_count": 97
        }
      ]
    },
    {
      "cell_type": "code",
      "source": [
        "vectorizer = TfidfVectorizer(min_df = 0.1,max_df = 0.8)\n",
        "vectors = vectorizer.fit_transform(news_groups_train.data)\n",
        "vectors.shape"
      ],
      "metadata": {
        "colab": {
          "base_uri": "https://localhost:8080/"
        },
        "id": "l3xuc3FLdTS2",
        "outputId": "49f5b723-7544-491c-e41f-1411edf99b00"
      },
      "execution_count": 98,
      "outputs": [
        {
          "output_type": "execute_result",
          "data": {
            "text/plain": [
              "(2842, 170)"
            ]
          },
          "metadata": {},
          "execution_count": 98
        }
      ]
    },
    {
      "cell_type": "code",
      "source": [
        "vectorizer.get_feature_names_out()[:12]"
      ],
      "metadata": {
        "colab": {
          "base_uri": "https://localhost:8080/"
        },
        "id": "GOn1U7Ypdael",
        "outputId": "bf0e9ddc-964f-4119-d192-f8f64d2313d2"
      },
      "execution_count": 99,
      "outputs": [
        {
          "output_type": "execute_result",
          "data": {
            "text/plain": [
              "array(['10', '15', 'about', 'after', 'all', 'also', 'am', 'an', 'any',\n",
              "       'anyone', 'anything', 'are'], dtype=object)"
            ]
          },
          "metadata": {},
          "execution_count": 99
        }
      ]
    },
    {
      "cell_type": "code",
      "source": [
        "vectorizer = TfidfVectorizer(min_df = 0.1,max_df = 0.8,ngram_range=(1,3))\n",
        "vectors = vectorizer.fit_transform(news_groups_train.data)\n",
        "vectors.shape"
      ],
      "metadata": {
        "colab": {
          "base_uri": "https://localhost:8080/"
        },
        "id": "RblkInCEdnW2",
        "outputId": "460e0537-56ba-4013-9886-c89fc18ad52f"
      },
      "execution_count": 100,
      "outputs": [
        {
          "output_type": "execute_result",
          "data": {
            "text/plain": [
              "(2842, 210)"
            ]
          },
          "metadata": {},
          "execution_count": 100
        }
      ]
    },
    {
      "cell_type": "code",
      "source": [
        "vectorizer.get_feature_names_out()[:12]"
      ],
      "metadata": {
        "colab": {
          "base_uri": "https://localhost:8080/"
        },
        "id": "V-UHETHsdshW",
        "outputId": "4c65c165-83d6-4009-ed02-e18d73f3b7b2"
      },
      "execution_count": 101,
      "outputs": [
        {
          "output_type": "execute_result",
          "data": {
            "text/plain": [
              "array(['10', '15', 'about', 'after', 'all', 'also', 'am', 'an', 'and the',\n",
              "       'any', 'anyone', 'anything'], dtype=object)"
            ]
          },
          "metadata": {},
          "execution_count": 101
        }
      ]
    },
    {
      "cell_type": "code",
      "source": [
        "from nltk.corpus import stopwords\n",
        "stopwords_eng = set(stopwords.words('english'))\n",
        "nltk.download('wordnet')\n",
        "wnl = nltk.WordNetLemmatizer()"
      ],
      "metadata": {
        "colab": {
          "base_uri": "https://localhost:8080/"
        },
        "id": "qmDQaRIGd82A",
        "outputId": "2a6985e5-7b07-4408-a54f-6edfd33ef339"
      },
      "execution_count": 118,
      "outputs": [
        {
          "output_type": "stream",
          "name": "stderr",
          "text": [
            "[nltk_data] Downloading package wordnet to /root/nltk_data...\n",
            "[nltk_data]   Package wordnet is already up-to-date!\n"
          ]
        }
      ]
    },
    {
      "cell_type": "code",
      "source": [
        "def preproc_nltk(textik):\n",
        "  return ' '.join([wnl.lemmatize(word) for word in nltk.word_tokenize(textik.lower()) if word not in stopwords_eng])\n"
      ],
      "metadata": {
        "id": "QhmpWDajeP_C"
      },
      "execution_count": 123,
      "outputs": []
    },
    {
      "cell_type": "code",
      "source": [
        "st = \"Oh, I think I ve landing Where there are miracles at work\"\n",
        "preproc_nltk(st)"
      ],
      "metadata": {
        "colab": {
          "base_uri": "https://localhost:8080/",
          "height": 35
        },
        "id": "AtoWJ9z1e3VM",
        "outputId": "bd433e53-b6d5-4639-9775-fa71decf78f0"
      },
      "execution_count": 125,
      "outputs": [
        {
          "output_type": "execute_result",
          "data": {
            "text/plain": [
              "'oh , think landing miracle work'"
            ],
            "application/vnd.google.colaboratory.intrinsic+json": {
              "type": "string"
            }
          },
          "metadata": {},
          "execution_count": 125
        }
      ]
    },
    {
      "cell_type": "code",
      "source": [
        "%%time\n",
        "vectorizer = TfidfVectorizer(preprocessor =preproc_nltk)\n",
        "vectors = vectorizer.fit_transform(news_groups_train.data)"
      ],
      "metadata": {
        "colab": {
          "base_uri": "https://localhost:8080/"
        },
        "id": "R95pRoxxgm9r",
        "outputId": "9b750a79-22c8-4686-947d-f0d27cbb501f"
      },
      "execution_count": 127,
      "outputs": [
        {
          "output_type": "stream",
          "name": "stdout",
          "text": [
            "CPU times: user 11.1 s, sys: 5.68 ms, total: 11.1 s\n",
            "Wall time: 11.1 s\n"
          ]
        }
      ]
    },
    {
      "cell_type": "code",
      "source": [
        "import spacy"
      ],
      "metadata": {
        "id": "ke7gEQVqhOy0"
      },
      "execution_count": 128,
      "outputs": []
    },
    {
      "cell_type": "code",
      "source": [
        "nlp = spacy.load(\"en_core_web_sm\")\n",
        "texts = news_groups_train.data.copy()\n",
        "\n",
        "def preproc_spacy(textik):\n",
        "  spacy_results = nlp(textik)\n",
        "  return ' '.join([token.lemma_ for token in spacy_results if token.lemma not in stopwords_eng ])\n",
        "preproc_spacy(st)"
      ],
      "metadata": {
        "colab": {
          "base_uri": "https://localhost:8080/",
          "height": 35
        },
        "id": "S6xV0tvChTf2",
        "outputId": "3c2dbdd2-e241-4226-915c-a870c3b4d102"
      },
      "execution_count": 137,
      "outputs": [
        {
          "output_type": "execute_result",
          "data": {
            "text/plain": [
              "'oh , I think I ve land where there be miracle at work'"
            ],
            "application/vnd.google.colaboratory.intrinsic+json": {
              "type": "string"
            }
          },
          "metadata": {},
          "execution_count": 137
        }
      ]
    },
    {
      "cell_type": "code",
      "source": [
        "%%time\n",
        "new_text = []\n",
        "for doc in nlp.pipe(texts,batch_size = 32,n_process = 3,disable = ['parser','ner']):\n",
        "  new_text.append(' '.join([tok.lemma_ for tok in doc if tok.lemma_ not in stopwords_eng]))\n",
        "vectorizer = TfidfVectorizer()\n",
        "vectors = vectorizer.fit_transform(new_text)"
      ],
      "metadata": {
        "colab": {
          "base_uri": "https://localhost:8080/"
        },
        "id": "o7FBbq8qh0HQ",
        "outputId": "8b19556a-e5a9-48ce-a2a4-2254de312ce1"
      },
      "execution_count": 141,
      "outputs": [
        {
          "output_type": "stream",
          "name": "stdout",
          "text": [
            "CPU times: user 21.1 s, sys: 521 ms, total: 21.6 s\n",
            "Wall time: 1min 59s\n"
          ]
        }
      ]
    },
    {
      "cell_type": "code",
      "source": [
        "print(new_text[0])"
      ],
      "metadata": {
        "colab": {
          "base_uri": "https://localhost:8080/"
        },
        "id": "ajiQ1AwvjP4R",
        "outputId": "f1681864-ec6e-42f4-9010-885633c6121c"
      },
      "execution_count": 143,
      "outputs": [
        {
          "output_type": "stream",
          "name": "stdout",
          "text": [
            ": mogal@deadhead.asd.sgi.com ( Joshua Mogal ) \n",
            " subject : : Hollywood Hits , virtual Reality \n",
            " Organization : Silicon Graphics , Inc. \n",
            " line : 137 \n",
            " NNTP - Posting - host : deadhead.asd.sgi.com \n",
            "\n",
            " sorry I miss Raymond , I Dahlgren last month ... \n",
            "\n",
            " I virtual reality market manager Silicon Graphics , perhaps I \n",
            " help little . \n",
            "\n",
            " article < 1993mar17.185725.13487@relay.nswc.navy.mil > , \n",
            " rchui@nswc-wo.nswc.navy.mil ( Raymond Chui ) write : \n",
            " | > Hello , real reality . agency start express interest \n",
            " | > virtual reality(VR ) .   far , know much VR .   \n",
            " | > know Hollywood movie \" Terminater 2 \" \" lawnmover \n",
            " | > Man \" .   also know something VR ABC news magazine \n",
            " | > Computer Graphics World magazine . \n",
            "\n",
            "\n",
            " unfortunately , SGI system use create special effect \n",
            " Terminator 2 Lawnmower Man , film - quality computer \n",
            " graphic , render software write film frame time .   \n",
            " frame computer animation film take hour render \n",
            " high - end parallel processing computer system . thus , level graphic \n",
            " would difficult , impossible , acheive real time ( 30 frame \n",
            " per second ) . \n",
            "\n",
            "\n",
            " | > \n",
            " | > certainly want know VR .   lead \n",
            " | > company , \n",
            " | > agency , university ?   machine support VR ( i.e. SGI , Sun4 , \n",
            " | > HP-9000 , BIM-6000 , etc . ) ? \n",
            "\n",
            "\n",
            " depend upon serious advanced application . \n",
            " true immersive visualization ( VR ) , require rendering complex visual \n",
            " database anywhere 20 60 newly render frame per second .   \n",
            " similar requirement traditional flight simulator pilot \n",
            " training . frame rate low , user notice stepping \n",
            " frame move head rapidly around scene , motion \n",
            " graphic smooth contiguous .   thus graphic system \n",
            " must powerful enough sustain high frame rate render complex \n",
            " datum representation . \n",
            "\n",
            " additionally , frame rate must constant .   system render 15 \n",
            " frame per second one point , 60 frame per second next ( perhaps \n",
            " due scene new view direction simple \n",
            " visible ) , user get heavily distract medium ( \n",
            " graphic computer ) rather focus datum . maintain constant \n",
            " frame rate , system must able run real - time .   UNIX general \n",
            " support real - time operation , Silicon Graphics modify \n",
            " UNIX kernel multi - processor system able support real - time \n",
            " operation , bypass usual UNIX process priority - management scheme . \n",
            " Uniprocessor system run UNIX fundamentally support real - time \n",
            " operation ( Sun SPARC10 , HP 700 Series system , IBM RS-6000 , \n",
            " even SGI 's uniprocessor system like Indigo Crimson ) . \n",
            " multiprocessor Onyx Challenge system support real - time operation due \n",
            " Symmetric Multi - Processing ( SMP ) share - memory architecture . \n",
            "\n",
            " graphic perspective , render complex virtual environment \n",
            " require advanced render technique like texture mapping real - time \n",
            " multi - sample anti - aliasing .   general purpose graphic system \n",
            " market today , Crimson RealityEngine Onyx RealityEngine2 \n",
            " system fully support capability . anti - aliasing particularly \n",
            " important , crawl jagged edge aliase polygon \n",
            " unfortunate distraction immerse virtual environment . \n",
            "\n",
            "\n",
            " | >   kind graphic language use VR \n",
            " | > ( GL , opengl , Phigs , PEX , GKS , etc . ) ? \n",
            "\n",
            " use general purpose graphic library list develop \n",
            " VR application , start pretty low level . \n",
            " - the- shelf software package available get go much fast , \n",
            " target directly VR application developer . \n",
            " popular ( particular order ): \n",
            "\n",
            "\t - Division Inc. \t\t     ( Redwood City , CA ) - dv \n",
            "\t - Sens8 Inc. \t\t     ( Sausalito , CA )     - WorldToolKit \n",
            "\t - Naval Postgraduate School ( Monterey , CA )      - NPSnet ( free ! ) \n",
            "\t - Gemini Technology Corp     ( Irvine , CA )        - GVS Simation Series \n",
            "\t - Paradigm Simulation Inc.   ( Dallas , TX )        - VisionWorks , AudioWorks \n",
            "\t - Silicon Graphics Inc. \t     ( Mountain View , CA ) - IRIS Performer \n",
            "\n",
            " , top head ... \n",
            "\n",
            "\t\n",
            " | > company make \n",
            " | > interface device VR ( goggle BOOM ( Binocular Omni - Orientational \n",
            " | > Monitor ) , hamlet , glove , arm , etc . ) ? \n",
            "\n",
            " many list , smattering : \n",
            "\n",
            "\t - Fake Space Labs \t     ( Menlo Park , CA )     - BOOM \n",
            "\t - Virtual Technologies Inc. ( Stanford , CA )      - CyberGlove \n",
            "\t - Digital Image Design \t     ( New York , NY )      - Cricket ( 3d input ) \n",
            "\t - Kaiser Electro Optics \t     ( Carlsbad , CA )      - Sim Eye Helmet Displays \n",
            "\t - Virtual Research \t     ( Sunnyvale , CA )     - Flight Helmet display \n",
            "\t - Virtual Reality Inc. \t     ( Pleasantville , NY ) - Head Mtd Displays , / w \n",
            "\t - Software Systems \t     ( San Jose , CA )      - 3d Modeling software \n",
            "\t - etc . , etc . , etc . \n",
            "\n",
            "\n",
            " | > company 's \n",
            " | > address phone number ?   get list name VR \n",
            " | > expert \n",
            " | > phone number Email address ? \n",
            "\n",
            "\n",
            " read VR book market : \n",
            "\n",
            "\t - Virtual Reality - Ken Pimental Ken Texiera ( sp ? ) \n",
            "\t - Virtual Mirage \n",
            "\t - Artificial Reality - Myron Kreuger \n",
            "\t - etc . \n",
            "\n",
            " check newsgroup sci.virtual_world \n",
            "\n",
            " feel free contact I info . \n",
            "\n",
            " regard , \n",
            "\n",
            " Josh \n",
            "\n",
            " -- \n",
            "\n",
            "\n",
            " * * * * * * * * * * * * * * * * * * * * * * * * * * * * * * * * * * * * * * * * * * * * * * * * * * * * * * * * * * * * * * * * * * * * * * * * * * \n",
            " * * \t\t\t\t      * * \t\t\t\t\t * * \n",
            " * * \t Joshua Mogal \t\t      * * \t Product Manager \t\t\t * * \n",
            " * * \t Advanced Graphics Division    * * \t   Advanced Graphics Systems \t * * \n",
            " * * \t Silicon Graphics Inc. \t      * * \t Market Manager \t\t\t * * \n",
            " * * \t 2011 North Shoreline Blvd .    * * \t   virtual reality \t\t * * \n",
            " * * \t Mountain View , CA 94039 - 7311 * * \t   Interactive Entertainment \t * * \n",
            " * * \t M / S 9l-580 \t\t      * * \t\t\t\t\t * * \n",
            " * * \t\t\t\t      * * * * * * * * * * * * * * * * * * * * * * * * * * * * * * * * * * * * * \n",
            " * * \t tel : \t ( 415 ) 390 - 1460 \t\t\t\t\t\t * * \n",
            " * * \t fax : \t ( 415 ) 964 - 8671 \t\t\t\t\t\t * * \n",
            " * * \t e - mail : \t mogal@sgi.com \t\t\t\t\t\t * * \n",
            " * * \t\t\t\t\t\t\t\t\t * * \n",
            " * * * * * * * * * * * * * * * * * * * * * * * * * * * * * * * * * * * * * * * * * * * * * * * * * * * * * * * * * * * * * * * * * * * * * * * * * * \n",
            "\n"
          ]
        }
      ]
    },
    {
      "cell_type": "code",
      "source": [
        "print(news_groups_train.data[0])"
      ],
      "metadata": {
        "colab": {
          "base_uri": "https://localhost:8080/"
        },
        "id": "UCMW71HYkh-C",
        "outputId": "1d9a551f-2687-4c9f-a06f-146a4005ebe1"
      },
      "execution_count": 145,
      "outputs": [
        {
          "output_type": "stream",
          "name": "stdout",
          "text": [
            "From: mogal@deadhead.asd.sgi.com (Joshua Mogal)\n",
            "Subject: Re: Hollywood Hits, Virtual Reality\n",
            "Organization: Silicon Graphics, Inc.\n",
            "Lines: 137\n",
            "NNTP-Posting-Host: deadhead.asd.sgi.com\n",
            "\n",
            "Sorry I missed you Raymond, I was just out in Dahlgren last month...\n",
            "\n",
            "I'm the Virtual Reality market manager for Silicon Graphics, so perhaps I\n",
            "can help a little.\n",
            "\n",
            "In article <1993Mar17.185725.13487@relay.nswc.navy.mil>,\n",
            "rchui@nswc-wo.nswc.navy.mil (Raymond Chui) writes:\n",
            "|> Hello, the real reality. Our agency started to express interest in\n",
            "|> virtual reality(VR).  So far, we do not know much about VR.  All we\n",
            "|> know about are the Hollywood movies \"The Terminater 2\" and \"Lawnmover\n",
            "|> Man\".  We also know something about VR from ABC news magazine and\n",
            "|> Computer Graphics World magazine.\n",
            "\n",
            "\n",
            "Unfortunately, while SGI systems were used to create the special effects\n",
            "for both Terminator 2 and Lawnmower Man, those are film-quality computer\n",
            "graphics, rendered in software and written to film a frame at a time.  Each\n",
            "frame of computer animation for those films took hours to render on\n",
            "high-end parallel processing computer systems. Thus, that level of graphics\n",
            "would be difficult, if not impossible, to acheive in real time (30 frames\n",
            "per second).\n",
            "\n",
            "\n",
            "|> \n",
            "|> We certainly want to know more about VR.  Who are the leading\n",
            "|> companies,\n",
            "|> agencies, universities?  What machines support VR (i.e. SGI, Sun4,\n",
            "|> HP-9000, BIM-6000, etc.)?\n",
            "\n",
            "\n",
            "It depends upon how serious you are and how advanced your application is.\n",
            "True immersive visualization (VR), requires the rendering of complex visual\n",
            "databases at anywhere from 20 to 60 newly rendered frames per second.  This\n",
            "is a similar requirement to that of traditional flight simulators for pilot\n",
            "training. If the frame rate is too low, the user notices the stepping of\n",
            "the frames as they move their head rapidly around the scene, so the motion\n",
            "of the graphics is not smooth and contiguous.  Thus the graphics system\n",
            "must be powerful enough to sustain high frame rates while rendering complex\n",
            "data representations.\n",
            "\n",
            "Additionally, the frame rate must be constant.  If the system renders 15\n",
            "frames per second at one point, then 60 frames per second the next (perhaps\n",
            "due to the scene in the new viewing direction being simpler than what was\n",
            "visible before), the user can get heavily distracted by the medium (the\n",
            "graphics computer) rather than focusing on the data. To maintain a constant\n",
            "frame rate, the system must be able to run in real-time.  UNIX in general\n",
            "does not support real-time operation, but Silicon Graphics has modified the\n",
            "UNIX kernel for its multi-processor systems to be able to support real-time\n",
            "operation, bypassing the usual UNIX process priority-management schemes. \n",
            "Uniprocessor systems running UNIX cannot fundamentally support real-time\n",
            "operation (not Sun SPARC10, not HP 700 Series systems, not IBM RS-6000, not\n",
            "even SGI's uniprocessor systems like Indigo or Crimson). Only our\n",
            "multiprocessor Onyx and Challenge systems support real-time operation due\n",
            "to their Symmetric Multi-Processing (SMP) shared-memory architecture.\n",
            "\n",
            "From a graphics perspective, rendering complex virtual environments\n",
            "requires advanced rendering techniques like texture mapping and real-time\n",
            "multi-sample anti-aliasing.  Of all of the general purpose graphics systems\n",
            "on the market today, only Crimson RealityEngine and Onyx RealityEngine2\n",
            "systems fully support these capabilities. The anti-aliasing is particularly\n",
            "important, as the crawling jagged edges of aliased polygons is an\n",
            "unfortunate distraction when immersed in a virtual environment.\n",
            "\n",
            "\n",
            "|>  What kind of graphics languages are used with VR\n",
            "|> (GL, opengl, Phigs, PEX, GKS, etc.)?\n",
            "\n",
            "You can use the general purpose graphics libraries listed above to develop\n",
            "VR applications, but that is starting at a pretty low level. There are\n",
            "off-the- shelf software packages available to get you going much faster,\n",
            "being targeted directly at the VR application developer. Some of the most\n",
            "popular are (in no particular order):\n",
            "\n",
            "\t- Division Inc.\t\t    (Redwood City, CA) - dVS\n",
            "\t- Sens8 Inc.\t\t    (Sausalito, CA)    - WorldToolKit\n",
            "\t- Naval Postgraduate School (Monterey, CA)     - NPSnet (FREE!)\n",
            "\t- Gemini Technology Corp    (Irvine, CA)       - GVS Simation Series\n",
            "\t- Paradigm Simulation Inc.  (Dallas, TX)       - VisionWorks, AudioWorks\n",
            "\t- Silicon Graphics Inc.\t    (Mountain View,CA) - IRIS Performer\n",
            "\n",
            "There are some others, but not off the top of my head...\n",
            "\n",
            "\t\n",
            "|> What companies are making\n",
            "|> interface devices for VR (goggles or BOOM (Binocular Omni-Orientational\n",
            "|> Monitor), hamlets, gloves, arms, etc.)?\n",
            "\n",
            "There are too many to list here, but here is a smattering:\n",
            "\n",
            "\t- Fake Space Labs\t    (Menlo Park,CA)    - BOOM\n",
            "\t- Virtual Technologies Inc. (Stanford, CA)     - CyberGlove\n",
            "\t- Digital Image Design\t    (New York, NY)     - The Cricket (3D input)\n",
            "\t- Kaiser Electro Optics\t    (Carlsbad, CA)     - Sim Eye Helmet Displays\n",
            "\t- Virtual Research\t    (Sunnyvale, CA)    - Flight Helmet display\n",
            "\t- Virtual Reality Inc.\t    (Pleasantville,NY) - Head Mtd Displays, s/w\n",
            "\t- Software Systems\t    (San Jose, CA)     - 3D Modeling software\n",
            "\t- etc., etc., etc.\n",
            "\n",
            "\n",
            "|> What are those company's\n",
            "|> addresses and phone numbers?  Where we can get a list name of VR\n",
            "|> experts\n",
            "|> and their phone numbers and Email addresses?\n",
            "\n",
            "\n",
            "Read some of the VR books on the market:\n",
            "\n",
            "\t- Virtual Reality - Ken Pimental and Ken Texiera (sp?)\n",
            "\t- Virtual Mirage\n",
            "\t- Artificial Reality - Myron Kreuger\n",
            "\t- etc.\n",
            "\n",
            "Or check out the newsgroup sci.virtual_worlds\n",
            "\n",
            "Feel free to contact me for more info.\n",
            "\n",
            "Regards,\n",
            "\n",
            "Josh\n",
            "\n",
            "-- \n",
            "\n",
            "\n",
            "**************************************************************************\n",
            "**\t\t\t\t     **\t\t\t\t\t**\n",
            "**\tJoshua Mogal\t\t     **\tProduct Manager\t\t\t**\n",
            "**\tAdvanced Graphics Division   **\t  Advanced Graphics Systems\t**\n",
            "**\tSilicon Graphics Inc.\t     **\tMarket Manager\t\t\t**\n",
            "**\t2011 North Shoreline Blvd.   **\t  Virtual Reality\t\t**\n",
            "**\tMountain View, CA 94039-7311 **\t  Interactive Entertainment\t**\n",
            "**\tM/S 9L-580\t\t     **\t\t\t\t\t**\n",
            "**\t\t\t\t     *************************************\n",
            "**\tTel:\t(415) 390-1460\t\t\t\t\t\t**\n",
            "**\tFax:\t(415) 964-8671\t\t\t\t\t\t**\n",
            "**\tE-mail:\tmogal@sgi.com\t\t\t\t\t\t**\n",
            "**\t\t\t\t\t\t\t\t\t**\n",
            "**************************************************************************\n",
            "\n"
          ]
        }
      ]
    },
    {
      "cell_type": "code",
      "source": [
        "vectorizer = TfidfVectorizer(ngram_range = (1,3),max_df = 0.5,max_features = 1000)\n",
        "vectors = vectorizer.fit_transform(new_text)\n"
      ],
      "metadata": {
        "id": "36qMGdMQl42q"
      },
      "execution_count": 151,
      "outputs": []
    },
    {
      "cell_type": "code",
      "source": [
        "vectr = vectors.todense()[0]\n",
        "print((vectr!=0).sum())\n",
        "vectr.shape"
      ],
      "metadata": {
        "colab": {
          "base_uri": "https://localhost:8080/"
        },
        "id": "Sy9mzylCkz8d",
        "outputId": "db8714a3-55fb-4ef1-d345-d91b5401d34f"
      },
      "execution_count": 153,
      "outputs": [
        {
          "output_type": "stream",
          "name": "stdout",
          "text": [
            "166\n"
          ]
        },
        {
          "output_type": "execute_result",
          "data": {
            "text/plain": [
              "(1, 1000)"
            ]
          },
          "metadata": {},
          "execution_count": 153
        }
      ]
    },
    {
      "cell_type": "code",
      "source": [
        "import numpy as np\n",
        "from numpy.linalg import norm"
      ],
      "metadata": {
        "id": "mMrqm-Kvlqe-"
      },
      "execution_count": 154,
      "outputs": []
    },
    {
      "cell_type": "code",
      "source": [
        "type(vectors)"
      ],
      "metadata": {
        "colab": {
          "base_uri": "https://localhost:8080/"
        },
        "id": "oyArBdVOlxlo",
        "outputId": "4d4e9435-168d-447f-b660-1eea37c92b08"
      },
      "execution_count": 155,
      "outputs": [
        {
          "output_type": "execute_result",
          "data": {
            "text/plain": [
              "scipy.sparse._csr.csr_matrix"
            ]
          },
          "metadata": {},
          "execution_count": 155
        }
      ]
    },
    {
      "cell_type": "code",
      "source": [
        "dense_vectors = vectors.todense()\n",
        "dense_vectors.shape"
      ],
      "metadata": {
        "colab": {
          "base_uri": "https://localhost:8080/"
        },
        "id": "eRHAC_M3mtLF",
        "outputId": "f9e59839-3328-4724-aa50-e05ccd000819"
      },
      "execution_count": 156,
      "outputs": [
        {
          "output_type": "execute_result",
          "data": {
            "text/plain": [
              "(2842, 1000)"
            ]
          },
          "metadata": {},
          "execution_count": 156
        }
      ]
    },
    {
      "cell_type": "code",
      "source": [
        "def cosine_sim(v1,v2):\n",
        "  return np.array(v1@v2.T/norm(v1)/norm(v2))[0][0]"
      ],
      "metadata": {
        "id": "gIuNQ9jgm837"
      },
      "execution_count": 158,
      "outputs": []
    },
    {
      "cell_type": "code",
      "source": [
        "cosine_sim(dense_vectors[0],dense_vectors[0])"
      ],
      "metadata": {
        "colab": {
          "base_uri": "https://localhost:8080/"
        },
        "id": "c3fDMbFonA1U",
        "outputId": "8b130c0c-df0e-40f1-8246-35664482ace1"
      },
      "execution_count": 159,
      "outputs": [
        {
          "output_type": "execute_result",
          "data": {
            "text/plain": [
              "1.0000000000000002"
            ]
          },
          "metadata": {},
          "execution_count": 159
        }
      ]
    },
    {
      "cell_type": "code",
      "source": [
        "cosines = []\n",
        "for i in range(10):\n",
        "  cosines.append(cosine_sim(dense_vectors[0],dense_vectors[i]))"
      ],
      "metadata": {
        "id": "PGlyYWj6ndU2"
      },
      "execution_count": 161,
      "outputs": []
    },
    {
      "cell_type": "code",
      "source": [
        "cosines"
      ],
      "metadata": {
        "colab": {
          "base_uri": "https://localhost:8080/"
        },
        "id": "lRHrgLhFnsZy",
        "outputId": "3c233ad3-693e-4238-f5af-9f56b0b30e82"
      },
      "execution_count": 162,
      "outputs": [
        {
          "output_type": "execute_result",
          "data": {
            "text/plain": [
              "[1.0000000000000002,\n",
              " 0.05247251131052299,\n",
              " 0.06664814264141884,\n",
              " 0.09491096410690951,\n",
              " 0.040756472981023174,\n",
              " 0.035174153018027704,\n",
              " 0.17718693236901933,\n",
              " 0.08368897925632113,\n",
              " 0.06509455908583184,\n",
              " 0.008599341145080291]"
            ]
          },
          "metadata": {},
          "execution_count": 162
        }
      ]
    },
    {
      "cell_type": "code",
      "source": [
        "from sklearn.model_selection import train_test_split\n",
        "from sklearn.metrics import accuracy_score\n",
        "from sklearn import svm\n",
        "from sklearn.linear_model import SGDClassifier"
      ],
      "metadata": {
        "id": "khvtfqEEnjgy"
      },
      "execution_count": 165,
      "outputs": []
    },
    {
      "cell_type": "code",
      "source": [
        "x_train,x_test,y_train,y_test = train_test_split(dense_vectors,news_groups_train.target,test_size = 0.2,random_state = 0)"
      ],
      "metadata": {
        "id": "4XUVWKcMqGoc"
      },
      "execution_count": 168,
      "outputs": []
    },
    {
      "cell_type": "code",
      "source": [
        "y_train.shape,y_test.shape"
      ],
      "metadata": {
        "colab": {
          "base_uri": "https://localhost:8080/"
        },
        "id": "ZzfjgUteqYSY",
        "outputId": "82976596-b2dd-4d2a-923e-546f554b38fe"
      },
      "execution_count": 169,
      "outputs": [
        {
          "output_type": "execute_result",
          "data": {
            "text/plain": [
              "((2273,), (569,))"
            ]
          },
          "metadata": {},
          "execution_count": 169
        }
      ]
    },
    {
      "cell_type": "code",
      "source": [
        "%%time\n",
        "svc = svm.SVC()\n",
        "svc.fit(np.asarray(x_train),y_train)"
      ],
      "metadata": {
        "colab": {
          "base_uri": "https://localhost:8080/",
          "height": 109
        },
        "id": "H1fw-JdNqkYM",
        "outputId": "e0bafcb6-e39a-4363-a480-b7ca7fc4e135"
      },
      "execution_count": 173,
      "outputs": [
        {
          "output_type": "stream",
          "name": "stdout",
          "text": [
            "CPU times: user 3.92 s, sys: 16.3 ms, total: 3.93 s\n",
            "Wall time: 6.2 s\n"
          ]
        },
        {
          "output_type": "execute_result",
          "data": {
            "text/plain": [
              "SVC()"
            ],
            "text/html": [
              "<style>#sk-container-id-1 {color: black;background-color: white;}#sk-container-id-1 pre{padding: 0;}#sk-container-id-1 div.sk-toggleable {background-color: white;}#sk-container-id-1 label.sk-toggleable__label {cursor: pointer;display: block;width: 100%;margin-bottom: 0;padding: 0.3em;box-sizing: border-box;text-align: center;}#sk-container-id-1 label.sk-toggleable__label-arrow:before {content: \"▸\";float: left;margin-right: 0.25em;color: #696969;}#sk-container-id-1 label.sk-toggleable__label-arrow:hover:before {color: black;}#sk-container-id-1 div.sk-estimator:hover label.sk-toggleable__label-arrow:before {color: black;}#sk-container-id-1 div.sk-toggleable__content {max-height: 0;max-width: 0;overflow: hidden;text-align: left;background-color: #f0f8ff;}#sk-container-id-1 div.sk-toggleable__content pre {margin: 0.2em;color: black;border-radius: 0.25em;background-color: #f0f8ff;}#sk-container-id-1 input.sk-toggleable__control:checked~div.sk-toggleable__content {max-height: 200px;max-width: 100%;overflow: auto;}#sk-container-id-1 input.sk-toggleable__control:checked~label.sk-toggleable__label-arrow:before {content: \"▾\";}#sk-container-id-1 div.sk-estimator input.sk-toggleable__control:checked~label.sk-toggleable__label {background-color: #d4ebff;}#sk-container-id-1 div.sk-label input.sk-toggleable__control:checked~label.sk-toggleable__label {background-color: #d4ebff;}#sk-container-id-1 input.sk-hidden--visually {border: 0;clip: rect(1px 1px 1px 1px);clip: rect(1px, 1px, 1px, 1px);height: 1px;margin: -1px;overflow: hidden;padding: 0;position: absolute;width: 1px;}#sk-container-id-1 div.sk-estimator {font-family: monospace;background-color: #f0f8ff;border: 1px dotted black;border-radius: 0.25em;box-sizing: border-box;margin-bottom: 0.5em;}#sk-container-id-1 div.sk-estimator:hover {background-color: #d4ebff;}#sk-container-id-1 div.sk-parallel-item::after {content: \"\";width: 100%;border-bottom: 1px solid gray;flex-grow: 1;}#sk-container-id-1 div.sk-label:hover label.sk-toggleable__label {background-color: #d4ebff;}#sk-container-id-1 div.sk-serial::before {content: \"\";position: absolute;border-left: 1px solid gray;box-sizing: border-box;top: 0;bottom: 0;left: 50%;z-index: 0;}#sk-container-id-1 div.sk-serial {display: flex;flex-direction: column;align-items: center;background-color: white;padding-right: 0.2em;padding-left: 0.2em;position: relative;}#sk-container-id-1 div.sk-item {position: relative;z-index: 1;}#sk-container-id-1 div.sk-parallel {display: flex;align-items: stretch;justify-content: center;background-color: white;position: relative;}#sk-container-id-1 div.sk-item::before, #sk-container-id-1 div.sk-parallel-item::before {content: \"\";position: absolute;border-left: 1px solid gray;box-sizing: border-box;top: 0;bottom: 0;left: 50%;z-index: -1;}#sk-container-id-1 div.sk-parallel-item {display: flex;flex-direction: column;z-index: 1;position: relative;background-color: white;}#sk-container-id-1 div.sk-parallel-item:first-child::after {align-self: flex-end;width: 50%;}#sk-container-id-1 div.sk-parallel-item:last-child::after {align-self: flex-start;width: 50%;}#sk-container-id-1 div.sk-parallel-item:only-child::after {width: 0;}#sk-container-id-1 div.sk-dashed-wrapped {border: 1px dashed gray;margin: 0 0.4em 0.5em 0.4em;box-sizing: border-box;padding-bottom: 0.4em;background-color: white;}#sk-container-id-1 div.sk-label label {font-family: monospace;font-weight: bold;display: inline-block;line-height: 1.2em;}#sk-container-id-1 div.sk-label-container {text-align: center;}#sk-container-id-1 div.sk-container {/* jupyter's `normalize.less` sets `[hidden] { display: none; }` but bootstrap.min.css set `[hidden] { display: none !important; }` so we also need the `!important` here to be able to override the default hidden behavior on the sphinx rendered scikit-learn.org. See: https://github.com/scikit-learn/scikit-learn/issues/21755 */display: inline-block !important;position: relative;}#sk-container-id-1 div.sk-text-repr-fallback {display: none;}</style><div id=\"sk-container-id-1\" class=\"sk-top-container\"><div class=\"sk-text-repr-fallback\"><pre>SVC()</pre><b>In a Jupyter environment, please rerun this cell to show the HTML representation or trust the notebook. <br />On GitHub, the HTML representation is unable to render, please try loading this page with nbviewer.org.</b></div><div class=\"sk-container\" hidden><div class=\"sk-item\"><div class=\"sk-estimator sk-toggleable\"><input class=\"sk-toggleable__control sk-hidden--visually\" id=\"sk-estimator-id-1\" type=\"checkbox\" checked><label for=\"sk-estimator-id-1\" class=\"sk-toggleable__label sk-toggleable__label-arrow\">SVC</label><div class=\"sk-toggleable__content\"><pre>SVC()</pre></div></div></div></div></div>"
            ]
          },
          "metadata": {},
          "execution_count": 173
        }
      ]
    },
    {
      "cell_type": "code",
      "source": [
        "accuracy_score(np.asarray(y_test),svc.predict(np.asarray(x_test)))"
      ],
      "metadata": {
        "colab": {
          "base_uri": "https://localhost:8080/"
        },
        "id": "-5Nkietlqzs7",
        "outputId": "c4f59e7c-edcd-408f-ab34-dccc6a075382"
      },
      "execution_count": 176,
      "outputs": [
        {
          "output_type": "execute_result",
          "data": {
            "text/plain": [
              "0.9103690685413005"
            ]
          },
          "metadata": {},
          "execution_count": 176
        }
      ]
    },
    {
      "cell_type": "code",
      "source": [
        "sgd = SGDClassifier()\n",
        "sgd.fit(np.asarray(x_train),y_train)"
      ],
      "metadata": {
        "colab": {
          "base_uri": "https://localhost:8080/",
          "height": 75
        },
        "id": "K6i1C3p2rYeJ",
        "outputId": "6f237a9d-4af5-4522-c5ce-d7a151f6cef8"
      },
      "execution_count": 177,
      "outputs": [
        {
          "output_type": "execute_result",
          "data": {
            "text/plain": [
              "SGDClassifier()"
            ],
            "text/html": [
              "<style>#sk-container-id-2 {color: black;background-color: white;}#sk-container-id-2 pre{padding: 0;}#sk-container-id-2 div.sk-toggleable {background-color: white;}#sk-container-id-2 label.sk-toggleable__label {cursor: pointer;display: block;width: 100%;margin-bottom: 0;padding: 0.3em;box-sizing: border-box;text-align: center;}#sk-container-id-2 label.sk-toggleable__label-arrow:before {content: \"▸\";float: left;margin-right: 0.25em;color: #696969;}#sk-container-id-2 label.sk-toggleable__label-arrow:hover:before {color: black;}#sk-container-id-2 div.sk-estimator:hover label.sk-toggleable__label-arrow:before {color: black;}#sk-container-id-2 div.sk-toggleable__content {max-height: 0;max-width: 0;overflow: hidden;text-align: left;background-color: #f0f8ff;}#sk-container-id-2 div.sk-toggleable__content pre {margin: 0.2em;color: black;border-radius: 0.25em;background-color: #f0f8ff;}#sk-container-id-2 input.sk-toggleable__control:checked~div.sk-toggleable__content {max-height: 200px;max-width: 100%;overflow: auto;}#sk-container-id-2 input.sk-toggleable__control:checked~label.sk-toggleable__label-arrow:before {content: \"▾\";}#sk-container-id-2 div.sk-estimator input.sk-toggleable__control:checked~label.sk-toggleable__label {background-color: #d4ebff;}#sk-container-id-2 div.sk-label input.sk-toggleable__control:checked~label.sk-toggleable__label {background-color: #d4ebff;}#sk-container-id-2 input.sk-hidden--visually {border: 0;clip: rect(1px 1px 1px 1px);clip: rect(1px, 1px, 1px, 1px);height: 1px;margin: -1px;overflow: hidden;padding: 0;position: absolute;width: 1px;}#sk-container-id-2 div.sk-estimator {font-family: monospace;background-color: #f0f8ff;border: 1px dotted black;border-radius: 0.25em;box-sizing: border-box;margin-bottom: 0.5em;}#sk-container-id-2 div.sk-estimator:hover {background-color: #d4ebff;}#sk-container-id-2 div.sk-parallel-item::after {content: \"\";width: 100%;border-bottom: 1px solid gray;flex-grow: 1;}#sk-container-id-2 div.sk-label:hover label.sk-toggleable__label {background-color: #d4ebff;}#sk-container-id-2 div.sk-serial::before {content: \"\";position: absolute;border-left: 1px solid gray;box-sizing: border-box;top: 0;bottom: 0;left: 50%;z-index: 0;}#sk-container-id-2 div.sk-serial {display: flex;flex-direction: column;align-items: center;background-color: white;padding-right: 0.2em;padding-left: 0.2em;position: relative;}#sk-container-id-2 div.sk-item {position: relative;z-index: 1;}#sk-container-id-2 div.sk-parallel {display: flex;align-items: stretch;justify-content: center;background-color: white;position: relative;}#sk-container-id-2 div.sk-item::before, #sk-container-id-2 div.sk-parallel-item::before {content: \"\";position: absolute;border-left: 1px solid gray;box-sizing: border-box;top: 0;bottom: 0;left: 50%;z-index: -1;}#sk-container-id-2 div.sk-parallel-item {display: flex;flex-direction: column;z-index: 1;position: relative;background-color: white;}#sk-container-id-2 div.sk-parallel-item:first-child::after {align-self: flex-end;width: 50%;}#sk-container-id-2 div.sk-parallel-item:last-child::after {align-self: flex-start;width: 50%;}#sk-container-id-2 div.sk-parallel-item:only-child::after {width: 0;}#sk-container-id-2 div.sk-dashed-wrapped {border: 1px dashed gray;margin: 0 0.4em 0.5em 0.4em;box-sizing: border-box;padding-bottom: 0.4em;background-color: white;}#sk-container-id-2 div.sk-label label {font-family: monospace;font-weight: bold;display: inline-block;line-height: 1.2em;}#sk-container-id-2 div.sk-label-container {text-align: center;}#sk-container-id-2 div.sk-container {/* jupyter's `normalize.less` sets `[hidden] { display: none; }` but bootstrap.min.css set `[hidden] { display: none !important; }` so we also need the `!important` here to be able to override the default hidden behavior on the sphinx rendered scikit-learn.org. See: https://github.com/scikit-learn/scikit-learn/issues/21755 */display: inline-block !important;position: relative;}#sk-container-id-2 div.sk-text-repr-fallback {display: none;}</style><div id=\"sk-container-id-2\" class=\"sk-top-container\"><div class=\"sk-text-repr-fallback\"><pre>SGDClassifier()</pre><b>In a Jupyter environment, please rerun this cell to show the HTML representation or trust the notebook. <br />On GitHub, the HTML representation is unable to render, please try loading this page with nbviewer.org.</b></div><div class=\"sk-container\" hidden><div class=\"sk-item\"><div class=\"sk-estimator sk-toggleable\"><input class=\"sk-toggleable__control sk-hidden--visually\" id=\"sk-estimator-id-2\" type=\"checkbox\" checked><label for=\"sk-estimator-id-2\" class=\"sk-toggleable__label sk-toggleable__label-arrow\">SGDClassifier</label><div class=\"sk-toggleable__content\"><pre>SGDClassifier()</pre></div></div></div></div></div>"
            ]
          },
          "metadata": {},
          "execution_count": 177
        }
      ]
    },
    {
      "cell_type": "code",
      "source": [
        "accuracy_score(np.asarray(y_test),sgd.predict(np.asarray(x_test)))"
      ],
      "metadata": {
        "colab": {
          "base_uri": "https://localhost:8080/"
        },
        "id": "9O4ay-R5riqS",
        "outputId": "ec20ce3b-92e7-4fa6-bdac-c28f7377588c"
      },
      "execution_count": 178,
      "outputs": [
        {
          "output_type": "execute_result",
          "data": {
            "text/plain": [
              "0.9050966608084359"
            ]
          },
          "metadata": {},
          "execution_count": 178
        }
      ]
    },
    {
      "cell_type": "code",
      "source": [],
      "metadata": {
        "id": "1NAqk02VroVv"
      },
      "execution_count": null,
      "outputs": []
    }
  ]
}